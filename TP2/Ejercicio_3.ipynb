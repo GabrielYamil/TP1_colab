{
  "nbformat": 4,
  "nbformat_minor": 0,
  "metadata": {
    "colab": {
      "provenance": [],
      "authorship_tag": "ABX9TyPqtYBkyS9SgENJ70Choe+j",
      "include_colab_link": true
    },
    "kernelspec": {
      "name": "python3",
      "display_name": "Python 3"
    },
    "language_info": {
      "name": "python"
    }
  },
  "cells": [
    {
      "cell_type": "markdown",
      "metadata": {
        "id": "view-in-github",
        "colab_type": "text"
      },
      "source": [
        "<a href=\"https://colab.research.google.com/github/GabrielYamil/TPs_colab/blob/main/TP2/Ejercicio_3.ipynb\" target=\"_parent\"><img src=\"https://colab.research.google.com/assets/colab-badge.svg\" alt=\"Open In Colab\"/></a>"
      ]
    },
    {
      "cell_type": "code",
      "execution_count": 19,
      "metadata": {
        "colab": {
          "base_uri": "https://localhost:8080/"
        },
        "id": "24kKc6SoU_bK",
        "outputId": "dc416c24-7420-4adc-e62d-d9984c2f0530"
      },
      "outputs": [
        {
          "output_type": "stream",
          "name": "stdout",
          "text": [
            "Writing analisisPreferencias.cpp\n"
          ]
        }
      ],
      "source": [
        "%%writefile analisisPreferencias.cpp\n",
        "#include <stdio.h>\n",
        "#include <stdlib.h>\n",
        "#include <string.h>\n",
        "#include <pthread.h>\n",
        "\n",
        "#define MAX_USERS 100\n",
        "#define MAX_LINES 1000\n",
        "#define MAX_FIELD 100\n",
        "#define ERR_FILE  1\n",
        "#define OK_FILE   0\n",
        "#define MAX_LINE  512\n",
        "#define MAX_GENRE 100\n",
        "#define NOT_EXIST_IDX -1\n",
        "#define EXIST_GENRE 2\n",
        "#define NOT_EXIST_GENRE 3\n",
        "#define MAX_VIEW 1000\n",
        "#define MAX_USER_VIEW 200\n",
        "\n",
        "typedef struct {\n",
        "    int user_id;\n",
        "    char user_name[MAX_FIELD];\n",
        "    char title[MAX_FIELD];\n",
        "    char type[MAX_FIELD];\n",
        "    char genre[MAX_FIELD];\n",
        "} View;\n",
        "\n",
        "typedef struct {\n",
        "    int user_id;\n",
        "    char user_name[MAX_FIELD];\n",
        "    View* views[MAX_VIEW];\n",
        "    int view_count;\n",
        "} UserData;\n",
        "\n",
        "typedef struct {\n",
        "    int user_id;\n",
        "    char user_name[MAX_FIELD];\n",
        "    char chosen_genre[MAX_FIELD];\n",
        "    char chosen_type[MAX_FIELD];\n",
        "    int total;\n",
        "    int different_genres;\n",
        "} Preference;\n",
        "\n",
        "pthread_mutex_t mutex = PTHREAD_MUTEX_INITIALIZER;\n",
        "Preference preferences[MAX_USERS];\n",
        "int idx_preference = 0;\n",
        "\n",
        "\n",
        "\n",
        "int read_views(const char* filename, View views[], int* total_views);\n",
        "int logUserViews(View all_views[], int total_views, UserData users[]);\n",
        "void countType(View* v, int type_count[]);\n",
        "void countGenre(View* v, int* unique_genres, int genre_counts[], char genres[][MAX_FIELD]);\n",
        "void type_most_frequent(char chosen_type[], int type_count[]);\n",
        "int genre_most_frequent(int unique_genres, int genre_count[]);\n",
        "void saveResult(UserData user, char genres[], char chosen_type[], int unique_genres, int max_index);\n",
        "int write_json(const char* filename, int total_users);\n",
        "int find_user_index(int user_id, const UserData users[], int user_count);\n",
        "\n",
        "\n",
        "\n",
        "int read_views(const char* filename, View views[], int* total_views) {\n",
        "    FILE* f = fopen(filename, \"r\");\n",
        "    if (!f) return ERR_FILE;\n",
        "\n",
        "    int total_views_c = 0;\n",
        "    char line[MAX_LINE];\n",
        "\n",
        "    fgets(line, sizeof(line), f);\n",
        "\n",
        "    while (fgets(line, sizeof(line), f)) {\n",
        "        if (total_views_c >= MAX_VIEW) break;\n",
        "\n",
        "        sscanf(line, \"%d,%99[^,],%99[^,],%99[^,],%99[^\\n]\",\n",
        "                      &views[total_views_c].user_id,\n",
        "                      views[total_views_c].user_name,\n",
        "                      views[total_views_c].title,\n",
        "                      views[total_views_c].type,\n",
        "                      views[total_views_c].genre);\n",
        "\n",
        "        total_views_c++;\n",
        "    }\n",
        "\n",
        "    fclose(f);\n",
        "\n",
        "    *total_views = total_views_c;\n",
        "\n",
        "    return OK_FILE;\n",
        "}\n",
        "\n",
        "\n",
        "\n",
        "\n",
        "int find_user_index(int user_id, const UserData users[], int user_count) {\n",
        "    for (int i = 0; i < user_count; i++) {\n",
        "        if (users[i].user_id == user_id)\n",
        "            return i;\n",
        "    }\n",
        "    return NOT_EXIST_IDX;\n",
        "}\n",
        "\n",
        "\n",
        "\n",
        "\n",
        "int logUserViews(View all_views[], int total_views, UserData users[])\n",
        "{\n",
        "    int user_count = 0;\n",
        "    for(int i = 0; i < total_views; i++)\n",
        "    {\n",
        "      int idx = find_user_index(all_views[i].user_id, users, user_count);\n",
        "        if (idx == NOT_EXIST_IDX) {\n",
        "            idx = user_count;\n",
        "            users[user_count].user_id = all_views[i].user_id;\n",
        "            strcpy(users[user_count].user_name, all_views[i].user_name);\n",
        "            users[user_count].view_count = 0;\n",
        "            user_count++;\n",
        "        }\n",
        "\n",
        "        if (users[idx].view_count < MAX_USER_VIEW) {\n",
        "          users[idx].views[users[idx].view_count++] = &all_views[i];\n",
        "        }\n",
        "\n",
        "    }\n",
        "\n",
        "    return user_count;\n",
        "}\n",
        "\n",
        "\n",
        "\n",
        "void countType(View* v, int type_count[])\n",
        "{\n",
        "  if (strcmp(v->type, \"Serie\") == 0)\n",
        "    type_count[0]++;\n",
        "  else if (strcmp(v->type, \"Película\") == 0)\n",
        "    type_count[1]++;\n",
        "}\n",
        "\n",
        "\n",
        "\n",
        "\n",
        "void countGenre(View* v, int* unique_genres, int genre_counts[], char genres[][MAX_FIELD])\n",
        "{\n",
        "  int found = NOT_EXIST_GENRE;\n",
        "  for (int i = 0; i < *unique_genres; i++) {\n",
        "      if (strcmp(genres[i], v->genre) == 0) {\n",
        "          genre_counts[i]++;\n",
        "          found = EXIST_GENRE;\n",
        "          break;\n",
        "      }\n",
        "  }\n",
        "  if (found == NOT_EXIST_GENRE) {\n",
        "      strcpy(genres[*unique_genres], v->genre);\n",
        "      genre_counts[*unique_genres] = 1;\n",
        "      (*unique_genres)++;\n",
        "  }\n",
        "}\n",
        "\n",
        "\n",
        "\n",
        "\n",
        "void type_most_frequent(char chosen_type[], int type_count[])\n",
        "{\n",
        "  strcpy(chosen_type, (type_count[1] >= type_count[0]) ? \"Película\" : \"Serie\");\n",
        "}\n",
        "\n",
        "\n",
        "\n",
        "\n",
        "int genre_most_frequent(int unique_genres, int genre_counts[])\n",
        "{\n",
        "  int max_index = 0;\n",
        "  for (int i = 1; i < unique_genres; i++) {\n",
        "      if (genre_counts[i] > genre_counts[max_index]) {\n",
        "          max_index = i;\n",
        "      }\n",
        "  }\n",
        "\n",
        "  return max_index;\n",
        "}\n",
        "\n",
        "\n",
        "\n",
        "\n",
        "void saveResult(UserData user, char genres[][MAX_FIELD], char chosen_type[], int unique_genres, int max_index)\n",
        "{\n",
        "    pthread_mutex_lock(&mutex);\n",
        "\n",
        "    if (idx_preference >= MAX_USERS) {\n",
        "      pthread_mutex_unlock(&mutex);\n",
        "      return;\n",
        "    }\n",
        "\n",
        "    Preference* pref = &preferences[idx_preference++];\n",
        "\n",
        "    pref->user_id = user.user_id;\n",
        "    strcpy(pref->user_name, user.user_name);\n",
        "    strcpy(pref->chosen_genre, genres[max_index]);\n",
        "    strcpy(pref->chosen_type, chosen_type);\n",
        "    pref->total = user.view_count;\n",
        "    pref->different_genres = unique_genres;\n",
        "    pthread_mutex_unlock(&mutex);\n",
        "}\n",
        "\n",
        "\n",
        "\n",
        "\n",
        "void* analyze_user(void* arg) {\n",
        "    UserData* user = (UserData*)arg;\n",
        "\n",
        "    int genre_counts[MAX_GENRE] = {0};\n",
        "    int type_count[2] = {0}; // 0: Serie, 1: Película\n",
        "    char genres[MAX_GENRE][MAX_FIELD];\n",
        "    int unique_genres = 0;\n",
        "\n",
        "    for (int i = 0; i < user->view_count; i++) {\n",
        "        View* v = user->views[i];\n",
        "\n",
        "        countType(v, type_count);\n",
        "        countGenre(v, &unique_genres, genre_counts, genres);\n",
        "    }\n",
        "\n",
        "    char chosen_type[MAX_FIELD];\n",
        "    type_most_frequent(chosen_type, type_count);\n",
        "    int max_index = genre_most_frequent(unique_genres, genre_counts);\n",
        "\n",
        "    UserData userData = *user;\n",
        "    saveResult(userData, genres, chosen_type, unique_genres, max_index);\n",
        "\n",
        "    return NULL;\n",
        "}\n",
        "\n",
        "\n",
        "\n",
        "\n",
        "\n",
        "int write_json(const char* filename, int total_users) {\n",
        "    FILE* f = fopen(filename, \"w\");\n",
        "    if (!f) return ERR_FILE;\n",
        "\n",
        "    fprintf(f, \"[\\n\");\n",
        "    for (int i = 0; i < total_users; i++) {\n",
        "        Preference* p = &preferences[i];\n",
        "        fprintf(f,\n",
        "            \"  {\\n\"\n",
        "            \"    \\\"user_id\\\": %d,\\n\"\n",
        "            \"    \\\"user_name\\\": \\\"%s\\\",\\n\"\n",
        "            \"    \\\"chosen_genre\\\": \\\"%s\\\",\\n\"\n",
        "            \"    \\\"chosen_type\\\": \\\"%s\\\",\\n\"\n",
        "            \"    \\\"total\\\": %d,\\n\"\n",
        "            \"    \\\"different_genres\\\": %d\\n\"\n",
        "            \"  }%s\\n\",\n",
        "            p->user_id, p->user_name, p->chosen_genre, p->chosen_type,\n",
        "            p->total, p->different_genres,\n",
        "            (i == total_users - 1) ? \"\" : \",\"\n",
        "        );\n",
        "    }\n",
        "    fprintf(f, \"]\\n\");\n",
        "    fclose(f);\n",
        "\n",
        "    return OK_FILE;\n",
        "}\n",
        "\n",
        "\n",
        "int main() {\n",
        "    View all_views[MAX_VIEW];\n",
        "    int total_views;\n",
        "    if (read_views(\"visualizaciones.csv\", all_views, &total_views) == ERR_FILE) {\n",
        "        perror(\"No se pudo abrir el archivo CSV\");\n",
        "\n",
        "        return ERR_FILE;\n",
        "    }\n",
        "\n",
        "    UserData users[MAX_USERS];\n",
        "    int user_count = logUserViews(all_views, total_views, users);\n",
        "\n",
        "    pthread_t threads[MAX_USERS];\n",
        "    for (int i = 0; i < user_count; i++) {\n",
        "        if (pthread_create(&threads[i], NULL, analyze_user, &users[i]) != 0) {\n",
        "          perror(\"Error creando hilo\");\n",
        "          exit(1);\n",
        "        }\n",
        "    }\n",
        "\n",
        "    for (int i = 0; i < user_count; i++) {\n",
        "        pthread_join(threads[i], NULL);\n",
        "    }\n",
        "\n",
        "    if (write_json(\"preferencias.json\", user_count) == ERR_FILE) {\n",
        "        perror(\"Error al escribir JSON\");\n",
        "        return ERR_FILE;\n",
        "    }\n",
        "\n",
        "    printf(\"preferencias.json generado con éxito.\\n\");\n",
        "    return 0;\n",
        "}\n",
        "\n"
      ]
    },
    {
      "cell_type": "code",
      "source": [
        "%%writefile visualizaciones.csv\n",
        "user_id,user_name,title,type,genre\n",
        "1,p_kiki,Hereditary,Película,Terror\n",
        "2,daro123,La Casa de Papel,Serie,Drama\n",
        "1,p_kiki,The Office,Serie,Comedia\n",
        "1,p_kiki,El Conjuro,Película,Terror"
      ],
      "metadata": {
        "colab": {
          "base_uri": "https://localhost:8080/"
        },
        "id": "wTCwrUIZyWiy",
        "outputId": "938e6165-4191-4e7b-bcbf-01ffc35a070a"
      },
      "execution_count": 2,
      "outputs": [
        {
          "output_type": "stream",
          "name": "stdout",
          "text": [
            "Writing visualizaciones.csv\n"
          ]
        }
      ]
    },
    {
      "cell_type": "code",
      "source": [
        "!rm analisisPreferencias.cpp"
      ],
      "metadata": {
        "id": "0fmkxAAvtPU2"
      },
      "execution_count": 17,
      "outputs": []
    },
    {
      "cell_type": "code",
      "source": [
        "!ls -la"
      ],
      "metadata": {
        "colab": {
          "base_uri": "https://localhost:8080/"
        },
        "id": "keDyXZyypI_E",
        "outputId": "df8520b2-7b02-4e04-8aab-9aeb12d42d08"
      },
      "execution_count": 20,
      "outputs": [
        {
          "output_type": "stream",
          "name": "stdout",
          "text": [
            "total 28\n",
            "drwxr-xr-x 1 root root 4096 May 12 14:06 .\n",
            "drwxr-xr-x 1 root root 4096 May 12 13:05 ..\n",
            "-rw-r--r-- 1 root root 7198 May 12 14:06 analisisPreferencias.cpp\n",
            "drwxr-xr-x 4 root root 4096 May  8 13:38 .config\n",
            "drwxr-xr-x 1 root root 4096 May  8 13:38 sample_data\n",
            "-rw-r--r-- 1 root root  182 May 12 13:17 visualizaciones.csv\n"
          ]
        }
      ]
    },
    {
      "cell_type": "code",
      "source": [
        "!gcc -pthread -o analisis analisisPreferencias.cpp"
      ],
      "metadata": {
        "id": "mLTWGA6yySbT"
      },
      "execution_count": 21,
      "outputs": []
    },
    {
      "cell_type": "code",
      "source": [
        "!./analisis"
      ],
      "metadata": {
        "colab": {
          "base_uri": "https://localhost:8080/"
        },
        "id": "VYuqqFkpo_IV",
        "outputId": "f3942c25-74cd-49c8-cd8e-a2baba1069a4"
      },
      "execution_count": 22,
      "outputs": [
        {
          "output_type": "stream",
          "name": "stdout",
          "text": [
            "preferencias.json generado con éxito.\n"
          ]
        }
      ]
    },
    {
      "cell_type": "code",
      "source": [
        "!cat preferencias.json"
      ],
      "metadata": {
        "colab": {
          "base_uri": "https://localhost:8080/"
        },
        "id": "QQGfuZbJpCo0",
        "outputId": "90936fe1-8675-4aeb-e32c-64d56cb653c5"
      },
      "execution_count": 24,
      "outputs": [
        {
          "output_type": "stream",
          "name": "stdout",
          "text": [
            "[\n",
            "  {\n",
            "    \"user_id\": 1,\n",
            "    \"user_name\": \"p_kiki\",\n",
            "    \"chosen_genre\": \"Terror\",\n",
            "    \"chosen_type\": \"Película\",\n",
            "    \"total\": 3,\n",
            "    \"different_genres\": 2\n",
            "  },\n",
            "  {\n",
            "    \"user_id\": 2,\n",
            "    \"user_name\": \"daro123\",\n",
            "    \"chosen_genre\": \"Drama\",\n",
            "    \"chosen_type\": \"Serie\",\n",
            "    \"total\": 1,\n",
            "    \"different_genres\": 1\n",
            "  }\n",
            "]\n"
          ]
        }
      ]
    }
  ]
}