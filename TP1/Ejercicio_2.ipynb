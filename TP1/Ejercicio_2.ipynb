{
  "nbformat": 4,
  "nbformat_minor": 0,
  "metadata": {
    "colab": {
      "provenance": [],
      "authorship_tag": "ABX9TyNTTTyk407lm1hW4I9/ExFY",
      "include_colab_link": true
    },
    "kernelspec": {
      "name": "python3",
      "display_name": "Python 3"
    },
    "language_info": {
      "name": "python"
    }
  },
  "cells": [
    {
      "cell_type": "markdown",
      "metadata": {
        "id": "view-in-github",
        "colab_type": "text"
      },
      "source": [
        "<a href=\"https://colab.research.google.com/github/GabrielYamil/TP1_colab/blob/main/TP1/Ejercicio_2.ipynb\" target=\"_parent\"><img src=\"https://colab.research.google.com/assets/colab-badge.svg\" alt=\"Open In Colab\"/></a>"
      ]
    },
    {
      "cell_type": "code",
      "source": [
        "!ls  -la"
      ],
      "metadata": {
        "colab": {
          "base_uri": "https://localhost:8080/"
        },
        "id": "gfJgP8g3Kqnm",
        "outputId": "415cf78a-cdc9-45c5-9eba-886bb94d6279"
      },
      "execution_count": 4,
      "outputs": [
        {
          "output_type": "stream",
          "name": "stdout",
          "text": [
            "total 20\n",
            "drwxr-xr-x 1 root root 4096 Apr 27 22:25 .\n",
            "drwxr-xr-x 1 root root 4096 Apr 27 21:32 ..\n",
            "drwxr-xr-x 4 root root 4096 Apr 24 18:19 .config\n",
            "-rw-r--r-- 1 root root  700 Apr 27 22:25 juego_dados.py\n",
            "drwxr-xr-x 1 root root 4096 Apr 24 18:20 sample_data\n"
          ]
        }
      ]
    },
    {
      "cell_type": "markdown",
      "source": [
        "Version con multiprocessing:"
      ],
      "metadata": {
        "id": "7gnPoGJmeHxg"
      }
    },
    {
      "cell_type": "code",
      "execution_count": 3,
      "metadata": {
        "colab": {
          "base_uri": "https://localhost:8080/"
        },
        "id": "1fGzjR9vjvnV",
        "outputId": "aebb8ce3-8517-459d-acdb-245a4bd76736"
      },
      "outputs": [
        {
          "output_type": "stream",
          "name": "stdout",
          "text": [
            "Writing juego_dados.py\n"
          ]
        }
      ],
      "source": [
        "%%writefile juego_dados.py\n",
        "from multiprocessing import Process\n",
        "import random\n",
        "import time\n",
        "import sys\n",
        "\n",
        "PLAYER = 5\n",
        "THROWS = 10\n",
        "\n",
        "def player(id):\n",
        "  sys.stdout.write(f\"Jugador {id} entra aljuego.\\n\")\n",
        "  points = 0\n",
        "  for i in range(THROWS):\n",
        "    dice = random.randint(1, 6)\n",
        "    points += dice\n",
        "    sys.stdout.write(f\"Jugador {id} - Lanzamiento {i+1}: {dice}\\n\")\n",
        "    time.sleep(random.uniform(0.1, 0.3))\n",
        "  sys.stdout.write(f\"Jugador {id} finaliza con {points} puntos.\\n\")\n",
        "\n",
        "def main():\n",
        "  procesos = []\n",
        "  for i in range(PLAYER):\n",
        "      p = Process(target=player, args=(i+1,))\n",
        "      procesos.append(p)\n",
        "      p.start()\n",
        "\n",
        "  for p in procesos:\n",
        "      p.join()\n",
        "\n",
        "  print(\"Todos los jugadores han terminado.\")\n",
        "\n",
        "if __name__ == \"__main__\":\n",
        "    main()"
      ]
    },
    {
      "cell_type": "code",
      "source": [
        "!python juego_dados.py"
      ],
      "metadata": {
        "colab": {
          "base_uri": "https://localhost:8080/"
        },
        "id": "8CprlhdpW1wA",
        "outputId": "26a967f1-010f-45ab-fee8-aed129efa4b1"
      },
      "execution_count": 5,
      "outputs": [
        {
          "output_type": "stream",
          "name": "stdout",
          "text": [
            "Jugador 1 entra aljuego.\n",
            "Jugador 1 - Lanzamiento 1: 6\n",
            "Jugador 2 entra aljuego.\n",
            "Jugador 2 - Lanzamiento 1: 3\n",
            "Jugador 4 entra aljuego.\n",
            "Jugador 4 - Lanzamiento 1: 4\n",
            "Jugador 3 entra aljuego.\n",
            "Jugador 3 - Lanzamiento 1: 2\n",
            "Jugador 5 entra aljuego.\n",
            "Jugador 5 - Lanzamiento 1: 4\n",
            "Jugador 1 - Lanzamiento 2: 5\n",
            "Jugador 2 - Lanzamiento 2: 6\n",
            "Jugador 4 - Lanzamiento 2: 1\n",
            "Jugador 3 - Lanzamiento 2: 1\n",
            "Jugador 5 - Lanzamiento 2: 5\n",
            "Jugador 2 - Lanzamiento 3: 4\n",
            "Jugador 1 - Lanzamiento 3: 2\n",
            "Jugador 4 - Lanzamiento 3: 6\n",
            "Jugador 3 - Lanzamiento 3: 3\n",
            "Jugador 5 - Lanzamiento 3: 6\n",
            "Jugador 1 - Lanzamiento 4: 3\n",
            "Jugador 4 - Lanzamiento 4: 6\n",
            "Jugador 2 - Lanzamiento 4: 5\n",
            "Jugador 3 - Lanzamiento 4: 6\n",
            "Jugador 5 - Lanzamiento 4: 1\n",
            "Jugador 4 - Lanzamiento 5: 4\n",
            "Jugador 3 - Lanzamiento 5: 2\n",
            "Jugador 2 - Lanzamiento 5: 6\n",
            "Jugador 1 - Lanzamiento 5: 1\n",
            "Jugador 3 - Lanzamiento 6: 6\n",
            "Jugador 4 - Lanzamiento 6: 2\n",
            "Jugador 5 - Lanzamiento 5: 2\n",
            "Jugador 2 - Lanzamiento 6: 2\n",
            "Jugador 1 - Lanzamiento 6: 6\n",
            "Jugador 5 - Lanzamiento 6: 5\n",
            "Jugador 3 - Lanzamiento 7: 5\n",
            "Jugador 2 - Lanzamiento 7: 6\n",
            "Jugador 4 - Lanzamiento 7: 1\n",
            "Jugador 1 - Lanzamiento 7: 5\n",
            "Jugador 3 - Lanzamiento 8: 1\n",
            "Jugador 5 - Lanzamiento 7: 2\n",
            "Jugador 4 - Lanzamiento 8: 1\n",
            "Jugador 2 - Lanzamiento 8: 2\n",
            "Jugador 1 - Lanzamiento 8: 4\n",
            "Jugador 5 - Lanzamiento 8: 2\n",
            "Jugador 4 - Lanzamiento 9: 5\n",
            "Jugador 3 - Lanzamiento 9: 6\n",
            "Jugador 2 - Lanzamiento 9: 4\n",
            "Jugador 1 - Lanzamiento 9: 2\n",
            "Jugador 2 - Lanzamiento 10: 3\n",
            "Jugador 4 - Lanzamiento 10: 2\n",
            "Jugador 3 - Lanzamiento 10: 3\n",
            "Jugador 5 - Lanzamiento 9: 2\n",
            "Jugador 1 - Lanzamiento 10: 2\n",
            "Jugador 2 finaliza con 41 puntos.\n",
            "Jugador 4 finaliza con 32 puntos.\n",
            "Jugador 1 finaliza con 36 puntos.\n",
            "Jugador 3 finaliza con 35 puntos.\n",
            "Jugador 5 - Lanzamiento 10: 3\n",
            "Jugador 5 finaliza con 32 puntos.\n",
            "Todos los jugadores han terminado.\n"
          ]
        }
      ]
    },
    {
      "cell_type": "markdown",
      "source": [
        "Version con fork:"
      ],
      "metadata": {
        "id": "3utyJ8XXeQu_"
      }
    },
    {
      "cell_type": "code",
      "source": [
        "%%writefile juego_dados_fork.py\n",
        "import sys\n",
        "import os\n",
        "import time\n",
        "import random\n",
        "\n",
        "PLAYER = 5\n",
        "THROWS = 10\n",
        "\n",
        "def player(id):\n",
        "  sys.stdout.write(f\"Jugador {id} entra al juego.\\n\")\n",
        "  points = 0\n",
        "  for i in range(THROWS):\n",
        "    dice = random.randint(1, 6)\n",
        "    points += dice\n",
        "    sys.stdout.write(f\"Jugador {id} - Lanzamiento {i+1}: {dice}\\n\")\n",
        "    time.sleep(random.uniform(0.1, 0.3))\n",
        "  sys.stdout.write(f\"Jugador {id} finaliza con {points} puntos.\\n\")\n",
        "\n",
        "def main():\n",
        "  for i in range(PLAYER):\n",
        "    pid = os.fork()\n",
        "\n",
        "    if pid < 0:\n",
        "      sys.exit(\"Error al crear el nuevo proceso\")\n",
        "\n",
        "    if pid == 0:\n",
        "      player(i + 1)\n",
        "      sys.exit(0)\n",
        "\n",
        "  for _ in range(PLAYER):\n",
        "    os.wait()\n",
        "\n",
        "  print(\"Todos los jugadores han terminado.\")\n",
        "\n",
        "if __name__ == \"__main__\":\n",
        "    main()"
      ],
      "metadata": {
        "colab": {
          "base_uri": "https://localhost:8080/"
        },
        "id": "JHX9lbuxXVZ3",
        "outputId": "4ce0d33a-5007-4938-ddcb-34255545541f"
      },
      "execution_count": 7,
      "outputs": [
        {
          "output_type": "stream",
          "name": "stdout",
          "text": [
            "Writing juego_dados_fork.py\n"
          ]
        }
      ]
    },
    {
      "cell_type": "code",
      "source": [
        "!ls -la"
      ],
      "metadata": {
        "colab": {
          "base_uri": "https://localhost:8080/"
        },
        "id": "Mbbqk7Modbdp",
        "outputId": "da3353c4-ad3f-4b3b-a1db-06e7276450ef"
      },
      "execution_count": 8,
      "outputs": [
        {
          "output_type": "stream",
          "name": "stdout",
          "text": [
            "total 24\n",
            "drwxr-xr-x 1 root root 4096 Apr 27 22:55 .\n",
            "drwxr-xr-x 1 root root 4096 Apr 27 21:32 ..\n",
            "drwxr-xr-x 4 root root 4096 Apr 24 18:19 .config\n",
            "-rw-r--r-- 1 root root  723 Apr 27 22:55 juego_dados_fork.py\n",
            "-rw-r--r-- 1 root root  700 Apr 27 22:25 juego_dados.py\n",
            "drwxr-xr-x 1 root root 4096 Apr 24 18:20 sample_data\n"
          ]
        }
      ]
    },
    {
      "cell_type": "code",
      "source": [
        "!python juego_dados_fork.py"
      ],
      "metadata": {
        "colab": {
          "base_uri": "https://localhost:8080/"
        },
        "id": "yoBG6L4pdiih",
        "outputId": "16e9d844-957e-4a44-d4d7-a5e8ea7bb289"
      },
      "execution_count": 9,
      "outputs": [
        {
          "output_type": "stream",
          "name": "stdout",
          "text": [
            "Jugador 1 entra al juego.\n",
            "Jugador 1 - Lanzamiento 1: 2\n",
            "Jugador 3 entra al juego.\n",
            "Jugador 4 entra al juego.\n",
            "Jugador 2 entra al juego.\n",
            "Jugador 2 - Lanzamiento 1: 6\n",
            "Jugador 3 - Lanzamiento 1: 2\n",
            "Jugador 4 - Lanzamiento 1: 5\n",
            "Jugador 5 entra al juego.\n",
            "Jugador 5 - Lanzamiento 1: 3\n",
            "Jugador 5 - Lanzamiento 2: 2\n",
            "Jugador 3 - Lanzamiento 2: 1\n",
            "Jugador 1 - Lanzamiento 2: 5\n",
            "Jugador 2 - Lanzamiento 2: 4\n",
            "Jugador 4 - Lanzamiento 2: 5\n",
            "Jugador 5 - Lanzamiento 3: 3\n",
            "Jugador 2 - Lanzamiento 3: 5\n",
            "Jugador 4 - Lanzamiento 3: 2\n",
            "Jugador 1 - Lanzamiento 3: 2\n",
            "Jugador 3 - Lanzamiento 3: 2\n",
            "Jugador 5 - Lanzamiento 4: 3\n",
            "Jugador 1 - Lanzamiento 4: 4\n",
            "Jugador 3 - Lanzamiento 4: 1\n",
            "Jugador 2 - Lanzamiento 4: 6\n",
            "Jugador 4 - Lanzamiento 4: 4\n",
            "Jugador 5 - Lanzamiento 5: 2\n",
            "Jugador 3 - Lanzamiento 5: 6\n",
            "Jugador 5 - Lanzamiento 6: 1\n",
            "Jugador 2 - Lanzamiento 5: 2\n",
            "Jugador 4 - Lanzamiento 5: 3\n",
            "Jugador 1 - Lanzamiento 5: 1\n",
            "Jugador 3 - Lanzamiento 6: 1\n",
            "Jugador 1 - Lanzamiento 6: 5\n",
            "Jugador 4 - Lanzamiento 6: 5\n",
            "Jugador 5 - Lanzamiento 7: 3\n",
            "Jugador 2 - Lanzamiento 6: 4\n",
            "Jugador 3 - Lanzamiento 7: 6\n",
            "Jugador 1 - Lanzamiento 7: 5\n",
            "Jugador 5 - Lanzamiento 8: 3\n",
            "Jugador 4 - Lanzamiento 7: 5\n",
            "Jugador 2 - Lanzamiento 7: 3\n",
            "Jugador 5 - Lanzamiento 9: 5\n",
            "Jugador 3 - Lanzamiento 8: 5\n",
            "Jugador 4 - Lanzamiento 8: 6\n",
            "Jugador 1 - Lanzamiento 8: 1\n",
            "Jugador 2 - Lanzamiento 8: 4\n",
            "Jugador 1 - Lanzamiento 9: 2\n",
            "Jugador 5 - Lanzamiento 10: 4\n",
            "Jugador 4 - Lanzamiento 9: 1\n",
            "Jugador 3 - Lanzamiento 9: 3\n",
            "Jugador 2 - Lanzamiento 9: 6\n",
            "Jugador 1 - Lanzamiento 10: 3\n",
            "Jugador 2 - Lanzamiento 10: 1\n",
            "Jugador 5 finaliza con 29 puntos.\n",
            "Jugador 1 finaliza con 30 puntos.\n",
            "Jugador 4 - Lanzamiento 10: 6\n",
            "Jugador 3 - Lanzamiento 10: 6\n",
            "Jugador 2 finaliza con 41 puntos.\n",
            "Jugador 3 finaliza con 33 puntos.\n",
            "Jugador 4 finaliza con 42 puntos.\n",
            "Todos los jugadores han terminado.\n"
          ]
        }
      ]
    }
  ]
}