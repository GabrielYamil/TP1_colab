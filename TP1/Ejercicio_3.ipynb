{
  "nbformat": 4,
  "nbformat_minor": 0,
  "metadata": {
    "colab": {
      "provenance": [],
      "authorship_tag": "ABX9TyO5RhnorKiBbKO0NcVYFKag",
      "include_colab_link": true
    },
    "kernelspec": {
      "name": "python3",
      "display_name": "Python 3"
    },
    "language_info": {
      "name": "python"
    }
  },
  "cells": [
    {
      "cell_type": "markdown",
      "metadata": {
        "id": "view-in-github",
        "colab_type": "text"
      },
      "source": [
        "<a href=\"https://colab.research.google.com/github/GabrielYamil/TP1_colab/blob/main/TP1/Ejercicio_3.ipynb\" target=\"_parent\"><img src=\"https://colab.research.google.com/assets/colab-badge.svg\" alt=\"Open In Colab\"/></a>"
      ]
    },
    {
      "cell_type": "code",
      "execution_count": null,
      "metadata": {
        "colab": {
          "base_uri": "https://localhost:8080/"
        },
        "id": "1N1YcluSbQRd",
        "outputId": "6a97b831-45d5-43f9-a46f-f5764c8c0c87"
      },
      "outputs": [
        {
          "output_type": "stream",
          "name": "stdout",
          "text": [
            "Writing CamaraProceso.java\n"
          ]
        }
      ],
      "source": [
        "%%writefile CamaraProceso.java\n",
        "import java.util.Random;\n",
        "\n",
        "public class CamaraProceso {\n",
        "    public static void main(String[] args) {\n",
        "        if (args.length < 4) {\n",
        "            System.out.println(\"Uso: java CamaraProceso <id> <zona> <duracion> <frecuencia>\");\n",
        "            System.exit(1);\n",
        "        }\n",
        "\n",
        "        int id = Integer.parseInt(args[0]);\n",
        "        String zona = args[1];\n",
        "        int duracion = Integer.parseInt(args[2]);\n",
        "        int frecuencia = Integer.parseInt(args[3]);\n",
        "\n",
        "        Random random = new Random();\n",
        "        String[] eventos = {\n",
        "            \"Sin actividad\",\n",
        "            \"Movimiento detectado\",\n",
        "            \"Anomalía térmica\",\n",
        "            \"Sombra extraña\",\n",
        "            \"Ruido detectado\"\n",
        "        };\n",
        "\n",
        "        int eventosParanormales = 0;\n",
        "        long tiempoInicio = System.currentTimeMillis();\n",
        "        long tiempoDuracion = duracion * 1000; // en milisegundos\n",
        "\n",
        "        while ((System.currentTimeMillis() - tiempoInicio) < tiempoDuracion) {\n",
        "            int eventoIndex = random.nextInt(eventos.length);\n",
        "            String evento = eventos[eventoIndex];\n",
        "\n",
        "            System.out.println(\"CÁMARA \" + id + \" | ZONA: \" + zona + \" | EVENTO: \" + evento);\n",
        "\n",
        "            if (!evento.equals(\"Sin actividad\")) {\n",
        "                eventosParanormales++;\n",
        "            }\n",
        "\n",
        "            try {\n",
        "                Thread.sleep(frecuencia * 1000);\n",
        "            } catch (InterruptedException e) {\n",
        "                System.out.println(\"Cámara \" + id + \" interrumpida.\");\n",
        "                break;\n",
        "            }\n",
        "        }\n",
        "\n",
        "        System.out.println(\"CÁMARA \" + id + \" finaliza con \" + eventosParanormales + \" eventos paranormales detectados.\");\n",
        "    }\n",
        "}"
      ]
    },
    {
      "cell_type": "code",
      "source": [
        "%%writefile MansionDercetoMonitor.java\n",
        "import java.io.IOException;\n",
        "import java.util.ArrayList;\n",
        "import java.util.List;\n",
        "\n",
        "public class MansionDercetoMonitor {\n",
        "    public static void main(String[] args) {\n",
        "        if (args.length < 2) {\n",
        "            System.out.println(\"Uso: java MansionDercetoMonitor <duracion> <frecuencia>\");\n",
        "            System.exit(1);\n",
        "        }\n",
        "\n",
        "        int duracion = Integer.parseInt(args[0]);\n",
        "        int frecuencia = Integer.parseInt(args[1]);\n",
        "\n",
        "        String[] zonas = {\n",
        "            \"Sotano\",\n",
        "            \"Atico\",\n",
        "            \"Cocina\",\n",
        "            \"Dormitorio\",\n",
        "            \"Jardin\",\n",
        "            \"Mausoleo\"\n",
        "        };\n",
        "\n",
        "        List<Process> procesos = new ArrayList<>();\n",
        "\n",
        "        for (int i = 0; i < zonas.length; i++) {\n",
        "            try {\n",
        "                ProcessBuilder pb = new ProcessBuilder(\n",
        "                        \"java\", \"CamaraProceso\",\n",
        "                        String.valueOf(i + 1),\n",
        "                        zonas[i],\n",
        "                        String.valueOf(duracion),\n",
        "                        String.valueOf(frecuencia)\n",
        "                );\n",
        "                pb.inheritIO(); // Redirige la salida de la cámara al proceso principal\n",
        "                Process proceso = pb.start();\n",
        "                procesos.add(proceso);\n",
        "            } catch (IOException e) {\n",
        "                System.out.println(\"Error lanzando la cámara \" + (i + 1));\n",
        "                e.printStackTrace();\n",
        "            }\n",
        "        }\n",
        "\n",
        "        // Esperar a que todos los procesos terminen\n",
        "        for (Process proceso : procesos) {\n",
        "            try {\n",
        "                proceso.waitFor();\n",
        "            } catch (InterruptedException e) {\n",
        "                System.out.println(\"Error esperando a un proceso hijo.\");\n",
        "                e.printStackTrace();\n",
        "            }\n",
        "        }\n",
        "\n",
        "        System.out.println(\"\\nMonitoreo finalizado. Todas las cámaras han terminado.\");\n",
        "    }\n",
        "}"
      ],
      "metadata": {
        "colab": {
          "base_uri": "https://localhost:8080/"
        },
        "id": "KgpGqK6nbm1F",
        "outputId": "c6ea08c7-c125-4fe1-b95b-29a512dbeb8f"
      },
      "execution_count": null,
      "outputs": [
        {
          "output_type": "stream",
          "name": "stdout",
          "text": [
            "Writing MansionDercetoMonitor.java\n"
          ]
        }
      ]
    },
    {
      "cell_type": "code",
      "source": [
        "!ls -la"
      ],
      "metadata": {
        "colab": {
          "base_uri": "https://localhost:8080/"
        },
        "id": "MKRGGk9wcFIn",
        "outputId": "85abba40-dd68-4ee5-be58-7a6e3d47fa17"
      },
      "execution_count": null,
      "outputs": [
        {
          "output_type": "stream",
          "name": "stdout",
          "text": [
            "total 32\n",
            "drwxr-xr-x 1 root root 4096 Apr 28 03:29 .\n",
            "drwxr-xr-x 1 root root 4096 Apr 28 03:28 ..\n",
            "-rw-r--r-- 1 root root 1979 Apr 28 03:29 CamaraProceso.class\n",
            "-rw-r--r-- 1 root root 1601 Apr 28 03:28 CamaraProceso.java\n",
            "drwxr-xr-x 4 root root 4096 Apr 24 18:19 .config\n",
            "-rw-r--r-- 1 root root 2289 Apr 28 03:29 MansionDercetoMonitor.class\n",
            "-rw-r--r-- 1 root root 1863 Apr 28 03:29 MansionDercetoMonitor.java\n",
            "drwxr-xr-x 1 root root 4096 Apr 24 18:20 sample_data\n"
          ]
        }
      ]
    },
    {
      "cell_type": "code",
      "source": [
        "!javac CamaraProceso.java"
      ],
      "metadata": {
        "id": "OxbBxog5cSN_"
      },
      "execution_count": null,
      "outputs": []
    },
    {
      "cell_type": "code",
      "source": [
        "!javac MansionDercetoMonitor.java"
      ],
      "metadata": {
        "id": "qG0ta76ocWrX"
      },
      "execution_count": null,
      "outputs": []
    },
    {
      "cell_type": "code",
      "source": [
        "!java MansionDercetoMonitor 20 3"
      ],
      "metadata": {
        "colab": {
          "base_uri": "https://localhost:8080/"
        },
        "id": "BT8vGFedcfhc",
        "outputId": "f0ba161f-bd92-4998-c42b-af748151e331"
      },
      "execution_count": null,
      "outputs": [
        {
          "output_type": "stream",
          "name": "stdout",
          "text": [
            "CÁMARA 1 | ZONA: Sotano | EVENTO: Sombra extraña\n",
            "CÁMARA 2 | ZONA: Atico | EVENTO: Anomalía térmica\n",
            "CÁMARA 5 | ZONA: Jardin | EVENTO: Sombra extraña\n",
            "CÁMARA 6 | ZONA: Mausoleo | EVENTO: Movimiento detectado\n",
            "CÁMARA 3 | ZONA: Cocina | EVENTO: Anomalía térmica\n",
            "CÁMARA 4 | ZONA: Dormitorio | EVENTO: Sombra extraña\n",
            "CÁMARA 1 | ZONA: Sotano | EVENTO: Movimiento detectado\n",
            "CÁMARA 2 | ZONA: Atico | EVENTO: Movimiento detectado\n",
            "CÁMARA 5 | ZONA: Jardin | EVENTO: Ruido detectado\n",
            "CÁMARA 6 | ZONA: Mausoleo | EVENTO: Sombra extraña\n",
            "CÁMARA 3 | ZONA: Cocina | EVENTO: Movimiento detectado\n",
            "CÁMARA 4 | ZONA: Dormitorio | EVENTO: Sombra extraña\n",
            "CÁMARA 1 | ZONA: Sotano | EVENTO: Anomalía térmica\n",
            "CÁMARA 2 | ZONA: Atico | EVENTO: Movimiento detectado\n",
            "CÁMARA 5 | ZONA: Jardin | EVENTO: Movimiento detectado\n",
            "CÁMARA 6 | ZONA: Mausoleo | EVENTO: Ruido detectado\n",
            "CÁMARA 3 | ZONA: Cocina | EVENTO: Sombra extraña\n",
            "CÁMARA 4 | ZONA: Dormitorio | EVENTO: Anomalía térmica\n",
            "CÁMARA 1 | ZONA: Sotano | EVENTO: Anomalía térmica\n",
            "CÁMARA 2 | ZONA: Atico | EVENTO: Sin actividad\n",
            "CÁMARA 5 | ZONA: Jardin | EVENTO: Anomalía térmica\n",
            "CÁMARA 6 | ZONA: Mausoleo | EVENTO: Movimiento detectado\n",
            "CÁMARA 3 | ZONA: Cocina | EVENTO: Movimiento detectado\n",
            "CÁMARA 4 | ZONA: Dormitorio | EVENTO: Ruido detectado\n",
            "CÁMARA 1 | ZONA: Sotano | EVENTO: Movimiento detectado\n",
            "CÁMARA 2 | ZONA: Atico | EVENTO: Ruido detectado\n",
            "CÁMARA 5 | ZONA: Jardin | EVENTO: Anomalía térmica\n",
            "CÁMARA 6 | ZONA: Mausoleo | EVENTO: Anomalía térmica\n",
            "CÁMARA 3 | ZONA: Cocina | EVENTO: Anomalía térmica\n",
            "CÁMARA 4 | ZONA: Dormitorio | EVENTO: Sombra extraña\n",
            "CÁMARA 1 | ZONA: Sotano | EVENTO: Sin actividad\n",
            "CÁMARA 2 | ZONA: Atico | EVENTO: Sombra extraña\n",
            "CÁMARA 5 | ZONA: Jardin | EVENTO: Movimiento detectado\n",
            "CÁMARA 6 | ZONA: Mausoleo | EVENTO: Sombra extraña\n",
            "CÁMARA 3 | ZONA: Cocina | EVENTO: Ruido detectado\n",
            "CÁMARA 4 | ZONA: Dormitorio | EVENTO: Ruido detectado\n",
            "CÁMARA 1 | ZONA: Sotano | EVENTO: Sombra extraña\n",
            "CÁMARA 2 | ZONA: Atico | EVENTO: Anomalía térmica\n",
            "CÁMARA 5 | ZONA: Jardin | EVENTO: Ruido detectado\n",
            "CÁMARA 6 | ZONA: Mausoleo | EVENTO: Sombra extraña\n",
            "CÁMARA 3 | ZONA: Cocina | EVENTO: Sombra extraña\n",
            "CÁMARA 4 | ZONA: Dormitorio | EVENTO: Ruido detectado\n",
            "CÁMARA 1 finaliza con 6 eventos paranormales detectados.\n",
            "CÁMARA 2 finaliza con 6 eventos paranormales detectados.\n",
            "CÁMARA 5 finaliza con 7 eventos paranormales detectados.\n",
            "CÁMARA 6 finaliza con 7 eventos paranormales detectados.\n",
            "CÁMARA 3 finaliza con 7 eventos paranormales detectados.\n",
            "CÁMARA 4 finaliza con 7 eventos paranormales detectados.\n",
            "\n",
            "Monitoreo finalizado. Todas las cámaras han terminado.\n"
          ]
        }
      ]
    }
  ]
}