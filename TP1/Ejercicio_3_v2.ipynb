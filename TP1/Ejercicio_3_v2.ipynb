{
  "nbformat": 4,
  "nbformat_minor": 0,
  "metadata": {
    "colab": {
      "provenance": [],
      "authorship_tag": "ABX9TyNnlcTUEgNcA11jWqHvbh+k",
      "include_colab_link": true
    },
    "kernelspec": {
      "name": "python3",
      "display_name": "Python 3"
    },
    "language_info": {
      "name": "python"
    }
  },
  "cells": [
    {
      "cell_type": "markdown",
      "metadata": {
        "id": "view-in-github",
        "colab_type": "text"
      },
      "source": [
        "<a href=\"https://colab.research.google.com/github/GabrielYamil/TP1_colab/blob/main/TP1/Ejercicio_3_v2.ipynb\" target=\"_parent\"><img src=\"https://colab.research.google.com/assets/colab-badge.svg\" alt=\"Open In Colab\"/></a>"
      ]
    },
    {
      "cell_type": "markdown",
      "source": [
        "gestión de eventos y probabilidades"
      ],
      "metadata": {
        "id": "SOvpvLxWQCJ4"
      }
    },
    {
      "cell_type": "code",
      "execution_count": null,
      "metadata": {
        "colab": {
          "base_uri": "https://localhost:8080/"
        },
        "id": "cj5jLIOwPzXY",
        "outputId": "5fac2dcd-ded7-411b-f6b9-ca13edf08dbb"
      },
      "outputs": [
        {
          "output_type": "stream",
          "name": "stdout",
          "text": [
            "Writing EventoParanormal.java\n"
          ]
        }
      ],
      "source": [
        "%%writefile EventoParanormal.java\n",
        "import java.util.Random;\n",
        "\n",
        "public class EventoParanormal {\n",
        "    private static final String[] eventos = {\n",
        "        \"Sin actividad\",\n",
        "        \"Movimiento detectado\",\n",
        "        \"Anomalía térmica\",\n",
        "        \"Sombra extraña\",\n",
        "        \"Ruido detectado\"\n",
        "    };\n",
        "\n",
        "    private static final double[] probabilidades = {\n",
        "        0.5,  // Sin actividad (50%)\n",
        "        0.7,  // Movimiento detectado (20%)\n",
        "        0.8,  // Anomalía térmica (10%)\n",
        "        0.9,  // Sombra extraña (10%)\n",
        "        1.0   // Ruido detectado (10%)\n",
        "    };\n",
        "\n",
        "    private static final Random random = new Random();\n",
        "\n",
        "    public static String generarEvento() {\n",
        "        double r = random.nextDouble();\n",
        "        for (int i = 0; i < probabilidades.length; i++) {\n",
        "            if (r < probabilidades[i]) {\n",
        "                return eventos[i];\n",
        "            }\n",
        "        }\n",
        "        return eventos[0];\n",
        "    }\n",
        "\n",
        "    public static boolean esParanormal(String evento) {\n",
        "        return !evento.equals(\"Sin actividad\");\n",
        "    }\n",
        "}"
      ]
    },
    {
      "cell_type": "markdown",
      "source": [
        "log con timestam"
      ],
      "metadata": {
        "id": "Z7FFn3nuQGJH"
      }
    },
    {
      "cell_type": "code",
      "source": [
        "%%writefile LoggerCamara.java\n",
        "import java.io.FileWriter;\n",
        "import java.io.IOException;\n",
        "import java.io.PrintWriter;\n",
        "import java.time.LocalDateTime;\n",
        "import java.time.format.DateTimeFormatter;\n",
        "\n",
        "public class LoggerCamara {\n",
        "    private final PrintWriter writer;\n",
        "    private final DateTimeFormatter dtf = DateTimeFormatter.ofPattern(\"yyyy-MM-dd HH:mm:ss\");\n",
        "\n",
        "    public LoggerCamara(String fileName) throws IOException {\n",
        "        this.writer = new PrintWriter(new FileWriter(fileName));\n",
        "    }\n",
        "\n",
        "    public void log(String mensaje) {\n",
        "        String timestamp = LocalDateTime.now().format(dtf);\n",
        "        writer.println(timestamp + \" | \" + mensaje);\n",
        "        writer.flush();\n",
        "    }\n",
        "\n",
        "    public void cerrar() {\n",
        "        writer.close();\n",
        "    }\n",
        "}"
      ],
      "metadata": {
        "colab": {
          "base_uri": "https://localhost:8080/"
        },
        "id": "BvGiEqwMP7bf",
        "outputId": "7ad363ce-5b7c-472a-8f68-9af0ffb87986"
      },
      "execution_count": null,
      "outputs": [
        {
          "output_type": "stream",
          "name": "stdout",
          "text": [
            "Writing LoggerCamara.java\n"
          ]
        }
      ]
    },
    {
      "cell_type": "code",
      "source": [
        "%%writefile CamaraProceso.java\n",
        "public class CamaraProceso {\n",
        "    public static void main(String[] args) {\n",
        "        if (args.length < 4) {\n",
        "            System.out.println(\"Uso: java CamaraProceso <id> <zona> <duracion> <frecuencia>\");\n",
        "            System.exit(1);\n",
        "        }\n",
        "\n",
        "        int id = Integer.parseInt(args[0]);\n",
        "        String zona = args[1];\n",
        "        int duracion = Integer.parseInt(args[2]);\n",
        "        int frecuencia = Integer.parseInt(args[3]);\n",
        "\n",
        "        if (duracion <= 0 || frecuencia <= 0) {\n",
        "            System.err.println(\"Duración y frecuencia deben ser mayores que cero.\");\n",
        "            System.exit(1);\n",
        "        }\n",
        "\n",
        "        int eventosParanormales = 0;\n",
        "        String logFile = \"camara_\" + id + \"_\" + zona + \".log\";\n",
        "\n",
        "        try {\n",
        "            LoggerCamara logger = new LoggerCamara(logFile);\n",
        "            long inicio = System.currentTimeMillis();\n",
        "            long tiempoTotal = duracion * 1000L;\n",
        "\n",
        "            while ((System.currentTimeMillis() - inicio) < tiempoTotal) {\n",
        "                String evento = EventoParanormal.generarEvento();\n",
        "                logger.log(\"CÁMARA \" + id + \" | ZONA: \" + zona + \" | EVENTO: \" + evento);\n",
        "\n",
        "                if (EventoParanormal.esParanormal(evento)) {\n",
        "                    eventosParanormales++;\n",
        "                }\n",
        "\n",
        "                try {\n",
        "                    Thread.sleep(frecuencia * 1000L);\n",
        "                } catch (InterruptedException e) {\n",
        "                    logger.log(\"Cámara \" + id + \" interrumpida.\");\n",
        "                    break;\n",
        "                }\n",
        "            }\n",
        "\n",
        "            logger.log(\"CÁMARA \" + id + \" finaliza con \" + eventosParanormales + \" eventos paranormales detectados.\");\n",
        "            logger.cerrar();\n",
        "        } catch (Exception e) {\n",
        "            System.err.println(\"Error en cámara \" + id + \": \" + e.getMessage());\n",
        "            e.printStackTrace();\n",
        "        }\n",
        "    }\n",
        "}"
      ],
      "metadata": {
        "colab": {
          "base_uri": "https://localhost:8080/"
        },
        "id": "7C07hWaJQMC_",
        "outputId": "06ce5009-b9e3-4025-d653-3831d75e01b6"
      },
      "execution_count": null,
      "outputs": [
        {
          "output_type": "stream",
          "name": "stdout",
          "text": [
            "Writing CamaraProceso.java\n"
          ]
        }
      ]
    },
    {
      "cell_type": "code",
      "source": [
        "%%writefile MansionDercetoMonitor.java\n",
        "import java.io.*;\n",
        "import java.util.*;\n",
        "\n",
        "public class MansionDercetoMonitor {\n",
        "    public static void main(String[] args) {\n",
        "        if (args.length < 2) {\n",
        "            System.out.println(\"Uso: java MansionDercetoMonitor <duracion> <frecuencia>\");\n",
        "            System.exit(1);\n",
        "        }\n",
        "\n",
        "        int duracion = 0, frecuencia = 0;\n",
        "\n",
        "        try {\n",
        "            duracion = Integer.parseInt(args[0]);\n",
        "            frecuencia = Integer.parseInt(args[1]);\n",
        "\n",
        "            if (duracion <= 0 || frecuencia <= 0) {\n",
        "                System.err.println(\"Duración y frecuencia deben ser mayores que cero.\");\n",
        "                System.exit(1);\n",
        "            }\n",
        "        } catch (NumberFormatException e) {\n",
        "            System.err.println(\"La duración y frecuencia deben ser enteros.\");\n",
        "            System.exit(1);\n",
        "        }\n",
        "\n",
        "         String[] zonas = {\n",
        "            \"Sotano\",\n",
        "            \"Atico\",\n",
        "            \"Cocina\",\n",
        "            \"Dormitorio\",\n",
        "            \"Jardin\",\n",
        "            \"Mausoleo\"\n",
        "        };\n",
        "\n",
        "        List<Process> procesos = new ArrayList<>();\n",
        "        List<String> logFiles = new ArrayList<>();\n",
        "\n",
        "        for (int i = 0; i < zonas.length; i++) {\n",
        "            String zona = zonas[i];\n",
        "            String logFile = \"camara_\" + (i + 1) + \"_\" + zona + \".log\";\n",
        "            logFiles.add(logFile);\n",
        "\n",
        "            try {\n",
        "                ProcessBuilder pb = new ProcessBuilder(\n",
        "                        \"java\", \"CamaraProceso\",\n",
        "                        String.valueOf(i + 1),\n",
        "                        zona,\n",
        "                        String.valueOf(duracion),\n",
        "                        String.valueOf(frecuencia)\n",
        "                );\n",
        "                pb.directory(new File(\".\"));\n",
        "                Process proceso = pb.start();\n",
        "                procesos.add(proceso);\n",
        "            } catch (IOException e) {\n",
        "                System.err.println(\"Error iniciando cámara \" + (i + 1));\n",
        "                e.printStackTrace();\n",
        "            }\n",
        "        }\n",
        "\n",
        "        // Esperar a que terminen todas las cámaras\n",
        "        for (Process proceso : procesos) {\n",
        "            try {\n",
        "                proceso.waitFor();\n",
        "            } catch (InterruptedException e) {\n",
        "                System.err.println(\"Error esperando una cámara.\");\n",
        "                e.printStackTrace();\n",
        "            }\n",
        "        }\n",
        "\n",
        "         System.out.println(\"\\nMonitoreo finalizado. Lectura de logs:\");\n",
        "\n",
        "        System.out.println(\"\\n======= LOG DE TODAS LAS CÁMARAS =======\\n\");\n",
        "        for (String file : logFiles) {\n",
        "            System.out.println(\">>> \" + file);\n",
        "            try (BufferedReader reader = new BufferedReader(new FileReader(file))) {\n",
        "                String linea;\n",
        "                while ((linea = reader.readLine()) != null) {\n",
        "                    System.out.println(linea);\n",
        "                }\n",
        "            } catch (IOException e) {\n",
        "                System.err.println(\"No se pudo leer el archivo: \" + file);\n",
        "            }\n",
        "            System.out.println(); // Espacio entre logs\n",
        "        }\n",
        "\n",
        "        System.out.println(\"Monitoreo completo.\");\n",
        "    }\n",
        "}"
      ],
      "metadata": {
        "colab": {
          "base_uri": "https://localhost:8080/"
        },
        "id": "0SOD2QQgQSy_",
        "outputId": "15689acd-91ec-4ede-a765-0f7ea6124333"
      },
      "execution_count": null,
      "outputs": [
        {
          "output_type": "stream",
          "name": "stdout",
          "text": [
            "Writing MansionDercetoMonitor.java\n"
          ]
        }
      ]
    },
    {
      "cell_type": "code",
      "source": [
        "!ls -la"
      ],
      "metadata": {
        "colab": {
          "base_uri": "https://localhost:8080/"
        },
        "id": "cqdSJmNxSS6o",
        "outputId": "057196e9-8a18-4427-ad9b-7a311ffe264b"
      },
      "execution_count": null,
      "outputs": [
        {
          "output_type": "stream",
          "name": "stdout",
          "text": [
            "total 32\n",
            "drwxr-xr-x 1 root root 4096 May  1 19:19 .\n",
            "drwxr-xr-x 1 root root 4096 May  1 19:17 ..\n",
            "-rw-r--r-- 1 root root 1794 May  1 19:18 CamaraProceso.java\n",
            "drwxr-xr-x 4 root root 4096 Apr 30 13:37 .config\n",
            "-rw-r--r-- 1 root root  969 May  1 19:18 EventoParanormal.java\n",
            "-rw-r--r-- 1 root root  695 May  1 19:18 LoggerCamara.java\n",
            "-rw-r--r-- 1 root root 2948 May  1 19:19 MansionDercetoMonitor.java\n",
            "drwxr-xr-x 1 root root 4096 Apr 30 13:37 sample_data\n"
          ]
        }
      ]
    },
    {
      "cell_type": "code",
      "source": [
        "!javac *.java"
      ],
      "metadata": {
        "id": "i6F0HZilQ2yP"
      },
      "execution_count": null,
      "outputs": []
    },
    {
      "cell_type": "code",
      "source": [
        "!java MansionDercetoMonitor 10 2"
      ],
      "metadata": {
        "colab": {
          "base_uri": "https://localhost:8080/"
        },
        "id": "6BL4pnPXSNEZ",
        "outputId": "49115f4f-7457-4a18-d487-55f5db722497"
      },
      "execution_count": null,
      "outputs": [
        {
          "output_type": "stream",
          "name": "stdout",
          "text": [
            "\n",
            "Monitoreo finalizado. Lectura de logs:\n",
            "\n",
            "======= LOG DE TODAS LAS CÁMARAS =======\n",
            "\n",
            ">>> camara_1_Sotano.log\n",
            "2025-05-01 19:19:30 | CÁMARA 1 | ZONA: Sotano | EVENTO: Sin actividad\n",
            "2025-05-01 19:19:32 | CÁMARA 1 | ZONA: Sotano | EVENTO: Sombra extraña\n",
            "2025-05-01 19:19:34 | CÁMARA 1 | ZONA: Sotano | EVENTO: Movimiento detectado\n",
            "2025-05-01 19:19:36 | CÁMARA 1 | ZONA: Sotano | EVENTO: Sin actividad\n",
            "2025-05-01 19:19:38 | CÁMARA 1 | ZONA: Sotano | EVENTO: Sin actividad\n",
            "2025-05-01 19:19:40 | CÁMARA 1 finaliza con 2 eventos paranormales detectados.\n",
            "\n",
            ">>> camara_2_Atico.log\n",
            "2025-05-01 19:19:30 | CÁMARA 2 | ZONA: Atico | EVENTO: Anomalía térmica\n",
            "2025-05-01 19:19:32 | CÁMARA 2 | ZONA: Atico | EVENTO: Anomalía térmica\n",
            "2025-05-01 19:19:34 | CÁMARA 2 | ZONA: Atico | EVENTO: Movimiento detectado\n",
            "2025-05-01 19:19:36 | CÁMARA 2 | ZONA: Atico | EVENTO: Sin actividad\n",
            "2025-05-01 19:19:38 | CÁMARA 2 | ZONA: Atico | EVENTO: Ruido detectado\n",
            "2025-05-01 19:19:40 | CÁMARA 2 finaliza con 4 eventos paranormales detectados.\n",
            "\n",
            ">>> camara_3_Cocina.log\n",
            "2025-05-01 19:19:30 | CÁMARA 3 | ZONA: Cocina | EVENTO: Sin actividad\n",
            "2025-05-01 19:19:32 | CÁMARA 3 | ZONA: Cocina | EVENTO: Sin actividad\n",
            "2025-05-01 19:19:34 | CÁMARA 3 | ZONA: Cocina | EVENTO: Sin actividad\n",
            "2025-05-01 19:19:36 | CÁMARA 3 | ZONA: Cocina | EVENTO: Sombra extraña\n",
            "2025-05-01 19:19:38 | CÁMARA 3 | ZONA: Cocina | EVENTO: Ruido detectado\n",
            "2025-05-01 19:19:40 | CÁMARA 3 finaliza con 2 eventos paranormales detectados.\n",
            "\n",
            ">>> camara_4_Dormitorio.log\n",
            "2025-05-01 19:19:30 | CÁMARA 4 | ZONA: Dormitorio | EVENTO: Sin actividad\n",
            "2025-05-01 19:19:32 | CÁMARA 4 | ZONA: Dormitorio | EVENTO: Sin actividad\n",
            "2025-05-01 19:19:34 | CÁMARA 4 | ZONA: Dormitorio | EVENTO: Ruido detectado\n",
            "2025-05-01 19:19:36 | CÁMARA 4 | ZONA: Dormitorio | EVENTO: Sombra extraña\n",
            "2025-05-01 19:19:38 | CÁMARA 4 | ZONA: Dormitorio | EVENTO: Sin actividad\n",
            "2025-05-01 19:19:40 | CÁMARA 4 finaliza con 2 eventos paranormales detectados.\n",
            "\n",
            ">>> camara_5_Jardin.log\n",
            "2025-05-01 19:19:30 | CÁMARA 5 | ZONA: Jardin | EVENTO: Sin actividad\n",
            "2025-05-01 19:19:32 | CÁMARA 5 | ZONA: Jardin | EVENTO: Movimiento detectado\n",
            "2025-05-01 19:19:34 | CÁMARA 5 | ZONA: Jardin | EVENTO: Movimiento detectado\n",
            "2025-05-01 19:19:36 | CÁMARA 5 | ZONA: Jardin | EVENTO: Anomalía térmica\n",
            "2025-05-01 19:19:38 | CÁMARA 5 | ZONA: Jardin | EVENTO: Sin actividad\n",
            "2025-05-01 19:19:40 | CÁMARA 5 finaliza con 3 eventos paranormales detectados.\n",
            "\n",
            ">>> camara_6_Mausoleo.log\n",
            "2025-05-01 19:19:30 | CÁMARA 6 | ZONA: Mausoleo | EVENTO: Sin actividad\n",
            "2025-05-01 19:19:32 | CÁMARA 6 | ZONA: Mausoleo | EVENTO: Sin actividad\n",
            "2025-05-01 19:19:34 | CÁMARA 6 | ZONA: Mausoleo | EVENTO: Sin actividad\n",
            "2025-05-01 19:19:36 | CÁMARA 6 | ZONA: Mausoleo | EVENTO: Movimiento detectado\n",
            "2025-05-01 19:19:38 | CÁMARA 6 | ZONA: Mausoleo | EVENTO: Movimiento detectado\n",
            "2025-05-01 19:19:40 | CÁMARA 6 finaliza con 2 eventos paranormales detectados.\n",
            "\n",
            "Monitoreo completo.\n"
          ]
        }
      ]
    }
  ]
}