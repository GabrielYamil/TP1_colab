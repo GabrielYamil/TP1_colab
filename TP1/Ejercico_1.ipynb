{
  "nbformat": 4,
  "nbformat_minor": 0,
  "metadata": {
    "colab": {
      "provenance": [],
      "authorship_tag": "ABX9TyNYbYvUlBtr8PJ8Trnu395C",
      "include_colab_link": true
    },
    "kernelspec": {
      "name": "python3",
      "display_name": "Python 3"
    },
    "language_info": {
      "name": "python"
    }
  },
  "cells": [
    {
      "cell_type": "markdown",
      "metadata": {
        "id": "view-in-github",
        "colab_type": "text"
      },
      "source": [
        "<a href=\"https://colab.research.google.com/github/GabrielYamil/TP1_colab/blob/main/TP1/Ejercico_1.ipynb\" target=\"_parent\"><img src=\"https://colab.research.google.com/assets/colab-badge.svg\" alt=\"Open In Colab\"/></a>"
      ]
    },
    {
      "cell_type": "code",
      "source": [
        "!ls  -la"
      ],
      "metadata": {
        "colab": {
          "base_uri": "https://localhost:8080/"
        },
        "id": "OQrS1NKPrEox",
        "outputId": "ffa60433-4941-4de9-b6be-2bacd40030a9"
      },
      "execution_count": null,
      "outputs": [
        {
          "output_type": "stream",
          "name": "stdout",
          "text": [
            "total 20\n",
            "drwxr-xr-x 1 root root 4096 Apr 24 03:17 .\n",
            "drwxr-xr-x 1 root root 4096 Apr 24 02:33 ..\n",
            "drwxr-xr-x 4 root root 4096 Apr 22 13:37 .config\n",
            "-rw-r--r-- 1 root root 1642 Apr 24 03:17 fork.cpp\n",
            "drwxr-xr-x 1 root root 4096 Apr 22 13:37 sample_data\n"
          ]
        }
      ]
    },
    {
      "cell_type": "code",
      "execution_count": null,
      "metadata": {
        "colab": {
          "base_uri": "https://localhost:8080/"
        },
        "id": "QJezyu3wfhHY",
        "outputId": "240b399d-5c5a-4bc8-f0b1-5a00cb66cb36"
      },
      "outputs": [
        {
          "output_type": "stream",
          "name": "stdout",
          "text": [
            "Writing fork.cpp\n"
          ]
        }
      ],
      "source": [
        "%%writefile fork.cpp\n",
        "#include <iostream>\n",
        "#include <unistd.h>\n",
        "#include <sys/types.h>\n",
        "#include <sys/wait.h>\n",
        "\n",
        "using namespace std;\n",
        "\n",
        "void crear_proceso(char letra)\n",
        "{\n",
        "  pid_t pid = getpid();\n",
        "  pid_t ppid = getppid();\n",
        "  cout << \"proceso\" << letra << \"con PID\" << pid << \"PPID\" << ppid << endl;\n",
        "\n",
        "  if(letra == 'A')\n",
        "  {\n",
        "    pid_t b;\n",
        "    b = fork();\n",
        "    if(b == 0)\n",
        "    {\n",
        "      crear_proceso('B');\n",
        "      exit(0);\n",
        "    }\n",
        "    sleep(20);\n",
        "    waitpid(b, NULL, 0);\n",
        "  }\n",
        "  else if(letra == 'B')\n",
        "  {\n",
        "    pid_t c, d;\n",
        "    c = fork();\n",
        "    if(c == 0)\n",
        "    {\n",
        "      crear_proceso('C');\n",
        "      exit(0);\n",
        "    }\n",
        "    d = fork();\n",
        "    if(d == 0)\n",
        "    {\n",
        "      crear_proceso('D');\n",
        "      exit(0);\n",
        "    }\n",
        "    sleep(20);\n",
        "    waitpid(c, NULL, 0);\n",
        "    waitpid(d, NULL, 0);\n",
        "  }\n",
        "  else if (letra == 'C')\n",
        "  {\n",
        "    pid_t e;\n",
        "    e = fork();\n",
        "    if(e == 0)\n",
        "    {\n",
        "      crear_proceso('E');\n",
        "      exit(0);\n",
        "    }\n",
        "    sleep(20);\n",
        "    waitpid(e, NULL, 0);\n",
        "  }\n",
        "  else if(letra == 'E')\n",
        "  {\n",
        "    pid_t h, i;\n",
        "    h = fork();\n",
        "    if(h == 0)\n",
        "    {\n",
        "      crear_proceso('H');\n",
        "      exit(0);\n",
        "    }\n",
        "    i = fork();\n",
        "    if(i == 0)\n",
        "    {\n",
        "      crear_proceso('I');\n",
        "      exit(0);\n",
        "    }\n",
        "    sleep(20);\n",
        "    waitpid(h, NULL, 0);\n",
        "    waitpid(i, NULL, 0);\n",
        "  }\n",
        "  else if(letra == 'D')\n",
        "  {\n",
        "    pid_t f, g;\n",
        "    f = fork();\n",
        "    if(f == 0)\n",
        "    {\n",
        "      crear_proceso('F');\n",
        "      exit(0);\n",
        "    }\n",
        "    g = fork();\n",
        "    if(g == 0)\n",
        "    {\n",
        "      crear_proceso('G');\n",
        "      exit(0);\n",
        "    }\n",
        "    sleep(20);\n",
        "    waitpid(f, NULL, 0);\n",
        "    waitpid(g, NULL, 0);\n",
        "  }\n",
        "\n",
        "  sleep(20);\n",
        "}\n",
        "\n",
        "\n",
        "int main()\n",
        "{\n",
        "  pid_t proceso_a;\n",
        "  proceso_a = fork();\n",
        "  if(proceso_a == 0)\n",
        "  {\n",
        "    crear_proceso('A');\n",
        "    exit(0);\n",
        "  }\n",
        "  sleep(20);\n",
        "  waitpid(proceso_a, NULL, 0);\n",
        "\n",
        "  return 0;\n",
        "}\n"
      ]
    },
    {
      "cell_type": "code",
      "source": [
        "!ls -la"
      ],
      "metadata": {
        "colab": {
          "base_uri": "https://localhost:8080/"
        },
        "id": "L9o8Kr5ergqD",
        "outputId": "86e961e5-f289-478e-c906-bec343e44cb5"
      },
      "execution_count": null,
      "outputs": [
        {
          "output_type": "stream",
          "name": "stdout",
          "text": [
            "total 40\n",
            "drwxr-xr-x 1 root root  4096 Apr 24 03:17 .\n",
            "drwxr-xr-x 1 root root  4096 Apr 24 02:33 ..\n",
            "drwxr-xr-x 4 root root  4096 Apr 22 13:37 .config\n",
            "-rwxr-xr-x 1 root root 16944 Apr 24 03:17 fork.bin\n",
            "-rw-r--r-- 1 root root  1642 Apr 24 03:17 fork.cpp\n",
            "drwxr-xr-x 1 root root  4096 Apr 22 13:37 sample_data\n"
          ]
        }
      ]
    },
    {
      "cell_type": "code",
      "source": [
        "!g++ -o fork.bin fork.cpp"
      ],
      "metadata": {
        "id": "-HhcNGRlrSZE"
      },
      "execution_count": null,
      "outputs": []
    },
    {
      "cell_type": "code",
      "source": [
        "!ls -la"
      ],
      "metadata": {
        "colab": {
          "base_uri": "https://localhost:8080/"
        },
        "id": "Uq_fVXpBrmXq",
        "outputId": "3312bbcb-02f7-4eb1-e660-28b21442800e"
      },
      "execution_count": null,
      "outputs": [
        {
          "output_type": "stream",
          "name": "stdout",
          "text": [
            "total 40\n",
            "drwxr-xr-x 1 root root  4096 Apr 24 03:17 .\n",
            "drwxr-xr-x 1 root root  4096 Apr 24 02:33 ..\n",
            "drwxr-xr-x 4 root root  4096 Apr 22 13:37 .config\n",
            "-rwxr-xr-x 1 root root 16944 Apr 24 03:17 fork.bin\n",
            "-rw-r--r-- 1 root root  1642 Apr 24 03:17 fork.cpp\n",
            "drwxr-xr-x 1 root root  4096 Apr 22 13:37 sample_data\n"
          ]
        }
      ]
    },
    {
      "cell_type": "code",
      "source": [
        "!nohup ./fork.bin 1>salidaC 2>/dev/null &"
      ],
      "metadata": {
        "id": "koGz_rWutMWA"
      },
      "execution_count": null,
      "outputs": []
    },
    {
      "cell_type": "code",
      "source": [
        "!ps -ef | grep fork.bin"
      ],
      "metadata": {
        "colab": {
          "base_uri": "https://localhost:8080/"
        },
        "id": "ucB5K8yBt9qB",
        "outputId": "d1e87d65-3b70-4ba2-eb9d-36b12b4026ae"
      },
      "execution_count": null,
      "outputs": [
        {
          "output_type": "stream",
          "name": "stdout",
          "text": [
            "root       11086       1  0 03:18 ?        00:00:00 ./fork.bin\n",
            "root       11087   11086  0 03:18 ?        00:00:00 ./fork.bin\n",
            "root       11088   11087  0 03:18 ?        00:00:00 ./fork.bin\n",
            "root       11089   11088  0 03:18 ?        00:00:00 ./fork.bin\n",
            "root       11090   11088  0 03:18 ?        00:00:00 ./fork.bin\n",
            "root       11091   11089  0 03:18 ?        00:00:00 ./fork.bin\n",
            "root       11092   11090  0 03:18 ?        00:00:00 ./fork.bin\n",
            "root       11093   11091  0 03:18 ?        00:00:00 ./fork.bin\n",
            "root       11094   11090  0 03:18 ?        00:00:00 ./fork.bin\n",
            "root       11095   11091  0 03:18 ?        00:00:00 ./fork.bin\n",
            "root       11104    1926  0 03:18 ?        00:00:00 /bin/bash -c ps -ef | grep fork.bin\n",
            "root       11106   11104  0 03:18 ?        00:00:00 grep fork.bin\n"
          ]
        }
      ]
    },
    {
      "cell_type": "code",
      "source": [
        "!pstree -p 11086"
      ],
      "metadata": {
        "colab": {
          "base_uri": "https://localhost:8080/"
        },
        "id": "uG1-SnOyulZP",
        "outputId": "d398a0fa-7f62-42f9-a4fd-2bec2dd54439"
      },
      "execution_count": null,
      "outputs": [
        {
          "output_type": "stream",
          "name": "stdout",
          "text": [
            "fork.bin(11086)───fork.bin(11087)───fork.bin(11088)─┬─fork.bin(11089)───fork.bin(11091)─┬─fork.bin(11093)\n",
            "                                                    │                                   └─fork.bin(11095)\n",
            "                                                    └─fork.bin(11090)─┬─fork.bin(11092)\n",
            "                                                                      └─fork.bin(11094)\n"
          ]
        }
      ]
    }
  ]
}