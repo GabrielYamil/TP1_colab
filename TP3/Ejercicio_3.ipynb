{
  "nbformat": 4,
  "nbformat_minor": 0,
  "metadata": {
    "colab": {
      "provenance": [],
      "authorship_tag": "ABX9TyNsgH9Y2STUdfsSdOXxobO3",
      "include_colab_link": true
    },
    "kernelspec": {
      "name": "python3",
      "display_name": "Python 3"
    },
    "language_info": {
      "name": "python"
    }
  },
  "cells": [
    {
      "cell_type": "markdown",
      "metadata": {
        "id": "view-in-github",
        "colab_type": "text"
      },
      "source": [
        "<a href=\"https://colab.research.google.com/github/GabrielYamil/TPs_colab/blob/main/TP3/Ejercicio_3.ipynb\" target=\"_parent\"><img src=\"https://colab.research.google.com/assets/colab-badge.svg\" alt=\"Open In Colab\"/></a>"
      ]
    },
    {
      "cell_type": "code",
      "execution_count": 8,
      "metadata": {
        "colab": {
          "base_uri": "https://localhost:8080/"
        },
        "id": "87ZUuiybQbUj",
        "outputId": "d75f6d64-149b-4f08-a4a3-e2e87c0ef56e"
      },
      "outputs": [
        {
          "output_type": "stream",
          "name": "stdout",
          "text": [
            "Writing GasMonkeyGarage.cpp\n"
          ]
        }
      ],
      "source": [
        "%%writefile GasMonkeyGarage.cpp\n",
        "#include <iostream>\n",
        "#include <atomic>\n",
        "#include <thread>\n",
        "#include <queue>\n",
        "#include <chrono>\n",
        "#include <vector>\n",
        "#include <memory>\n",
        "#include <semaphore>\n",
        "#include <mutex>\n",
        "\n",
        "using namespace std;\n",
        "\n",
        "mutex cout_mutex;  // mutex global solo para sincronizar salida\n",
        "\n",
        "class TallerMecanico {\n",
        "private:\n",
        "    const int N;\n",
        "\n",
        "    counting_semaphore<6> espacioPlaya{6};         // capacidad playa\n",
        "    counting_semaphore<6> autosParaInspeccion{0};  // autos listos para inspección\n",
        "    counting_semaphore<3> espacioFosa{3};          // capacidad en fosa\n",
        "    counting_semaphore<6> autosParaReparar{0};     // autos listos para reparar\n",
        "    counting_semaphore<2> espacioServicio{2};      // capacidad de zona de servicio\n",
        "    counting_semaphore<1> espacioLavado{1};        // un solo lavado a la vez\n",
        "\n",
        "public:\n",
        "    TallerMecanico(int n) : N(n) {}\n",
        "\n",
        "    void richard(int id) {\n",
        "        espacioPlaya.acquire();\n",
        "        {\n",
        "            lock_guard<mutex> lock(cout_mutex);\n",
        "            cout << \"[Auto \" << id << \"] Richard lo ingresa a la playa.\" << endl;\n",
        "        }\n",
        "        this_thread::sleep_for(chrono::milliseconds(100));\n",
        "        autosParaInspeccion.release();\n",
        "    }\n",
        "\n",
        "    void aaron(int id) {\n",
        "        autosParaInspeccion.acquire();\n",
        "        {\n",
        "            lock_guard<mutex> lock(cout_mutex);\n",
        "            cout << \"[Auto \" << id << \"] Aaron lo inspecciona.\" << endl;\n",
        "        }\n",
        "        this_thread::sleep_for(chrono::milliseconds(100));\n",
        "        espacioFosa.acquire();\n",
        "        autosParaReparar.release();\n",
        "    }\n",
        "\n",
        "    void charles(int id) {\n",
        "        autosParaReparar.acquire();\n",
        "        {\n",
        "            lock_guard<mutex> lock(cout_mutex);\n",
        "            cout << \"[Auto \" << id << \"] Charles lo traslada a fosa y repara.\" << endl;\n",
        "        }\n",
        "        this_thread::sleep_for(chrono::milliseconds(100));\n",
        "        espacioServicio.acquire();\n",
        "        espacioFosa.release(); // libera fosa una vez entra a zona de servicio\n",
        "    }\n",
        "\n",
        "    void ayudante(int id) {\n",
        "        {\n",
        "            lock_guard<mutex> lock(cout_mutex);\n",
        "            cout << \"[Auto \" << id << \"] Ayudante cambia el aceite.\" << endl;\n",
        "        }\n",
        "        this_thread::sleep_for(chrono::milliseconds(100));\n",
        "        espacioServicio.release();\n",
        "\n",
        "        espacioLavado.acquire();\n",
        "        {\n",
        "            lock_guard<mutex> lock(cout_mutex);\n",
        "            cout << \"[Auto \" << id << \"] Se lava el auto.\" << endl;\n",
        "        }\n",
        "        this_thread::sleep_for(chrono::milliseconds(100));\n",
        "        espacioLavado.release();\n",
        "\n",
        "        espacioPlaya.release(); // el auto se va\n",
        "    }\n",
        "\n",
        "    void ingresarAuto(int id) {\n",
        "        richard(id);\n",
        "        aaron(id);\n",
        "        charles(id);\n",
        "        ayudante(id);\n",
        "    }\n",
        "\n",
        "    void iniciar() {\n",
        "        vector<thread> threads;\n",
        "        for (int i = 0; i < N; ++i) {\n",
        "            threads.emplace_back(&TallerMecanico::ingresarAuto, this, i);\n",
        "        }\n",
        "        for (auto& t : threads) {\n",
        "            t.join();\n",
        "        }\n",
        "        {\n",
        "            lock_guard<mutex> lock(cout_mutex);\n",
        "            cout << \"Todos los autos fueron atendidos y retirados.\" << endl;\n",
        "        }\n",
        "    }\n",
        "};\n",
        "\n",
        "int main(int argc, char* argv[]) {\n",
        "    if (argc != 2) {\n",
        "        cerr << \"Uso: \" << argv[0] << \" <N_AUTOS>\\n\";\n",
        "        return 1;\n",
        "    }\n",
        "\n",
        "    int N = stoi(argv[1]);\n",
        "    TallerMecanico taller(N);\n",
        "    taller.iniciar();\n",
        "\n",
        "    return 0;\n",
        "}"
      ]
    },
    {
      "cell_type": "code",
      "source": [
        "!ls -la"
      ],
      "metadata": {
        "colab": {
          "base_uri": "https://localhost:8080/"
        },
        "id": "BY6gwIdjgRno",
        "outputId": "7c2ef064-6ea0-4be1-f315-303eeac95008"
      },
      "execution_count": 9,
      "outputs": [
        {
          "output_type": "stream",
          "name": "stdout",
          "text": [
            "total 92\n",
            "drwxr-xr-x 1 root root  4096 May 19 03:18 .\n",
            "drwxr-xr-x 1 root root  4096 May 19 03:03 ..\n",
            "drwxr-xr-x 4 root root  4096 May 14 13:38 .config\n",
            "-rw-r--r-- 1 root root  3204 May 19 03:18 GasMonkeyGarage.cpp\n",
            "drwxr-xr-x 1 root root  4096 May 14 13:38 sample_data\n",
            "-rwxr-xr-x 1 root root 72520 May 19 03:06 taller\n"
          ]
        }
      ]
    },
    {
      "cell_type": "code",
      "source": [
        "!rm GasMonkeyGarage.cpp"
      ],
      "metadata": {
        "id": "2LBddgzTjCwZ"
      },
      "execution_count": 6,
      "outputs": []
    },
    {
      "cell_type": "code",
      "source": [
        "!g++ -std=c++20 -pthread GasMonkeyGarage.cpp -o taller"
      ],
      "metadata": {
        "id": "lXmpUmOVgZn4"
      },
      "execution_count": 10,
      "outputs": []
    },
    {
      "cell_type": "code",
      "source": [
        "!./taller 10"
      ],
      "metadata": {
        "colab": {
          "base_uri": "https://localhost:8080/"
        },
        "id": "-sdQSHrrge6A",
        "outputId": "036190f0-c470-4667-ac63-2763e868828f"
      },
      "execution_count": 12,
      "outputs": [
        {
          "output_type": "stream",
          "name": "stdout",
          "text": [
            "[Auto 0] Richard lo ingresa a la playa.\n",
            "[Auto 3] Richard lo ingresa a la playa.\n",
            "[Auto 1] Richard lo ingresa a la playa.\n",
            "[Auto 2] Richard lo ingresa a la playa.\n",
            "[Auto 4] Richard lo ingresa a la playa.\n",
            "[Auto 5] Richard lo ingresa a la playa.\n",
            "[Auto 0] Aaron lo inspecciona.\n",
            "[Auto 3] Aaron lo inspecciona.\n",
            "[Auto 4] Aaron lo inspecciona.\n",
            "[Auto 1] Aaron lo inspecciona.\n",
            "[Auto 5] Aaron lo inspecciona.\n",
            "[Auto 2] Aaron lo inspecciona.\n",
            "[Auto 2] Charles lo traslada a fosa y repara.\n",
            "[Auto 4] Charles lo traslada a fosa y repara.\n",
            "[Auto 5] Charles lo traslada a fosa y repara.\n",
            "[Auto 2] Ayudante cambia el aceite.\n",
            "[Auto 3] Charles lo traslada a fosa y repara.\n",
            "[Auto 5] Ayudante cambia el aceite.\n",
            "[Auto 1] Charles lo traslada a fosa y repara.\n",
            "[Auto 2] Se lava el auto.\n",
            "[Auto 4] Ayudante cambia el aceite.\n",
            "[Auto 3] Ayudante cambia el aceite.\n",
            "[Auto 0] Charles lo traslada a fosa y repara.\n",
            "[Auto 5] Se lava el auto.\n",
            "[Auto 6] Richard lo ingresa a la playa.\n",
            "[Auto 1] Ayudante cambia el aceite.\n",
            "[Auto 0] Ayudante cambia el aceite.\n",
            "[Auto 6] Aaron lo inspecciona.\n",
            "[Auto 4] Se lava el auto.\n",
            "[Auto 8] Richard lo ingresa a la playa.\n",
            "[Auto 6] Charles lo traslada a fosa y repara.\n",
            "[Auto 8] Aaron lo inspecciona.\n",
            "[Auto 3] Se lava el auto.\n",
            "[Auto 7] Richard lo ingresa a la playa.\n",
            "[Auto 7] Aaron lo inspecciona.\n",
            "[Auto 8] Charles lo traslada a fosa y repara.\n",
            "[Auto 6] Ayudante cambia el aceite.\n",
            "[Auto 1] Se lava el auto.\n",
            "[Auto 9] Richard lo ingresa a la playa.\n",
            "[Auto 8] Ayudante cambia el aceite.\n",
            "[Auto 7] Charles lo traslada a fosa y repara.\n",
            "[Auto 0] Se lava el auto.\n",
            "[Auto 9] Aaron lo inspecciona.\n",
            "[Auto 7] Ayudante cambia el aceite.\n",
            "[Auto 9] Charles lo traslada a fosa y repara.\n",
            "[Auto 8] Se lava el auto.\n",
            "[Auto 7] Se lava el auto.\n",
            "[Auto 9] Ayudante cambia el aceite.\n",
            "[Auto 6] Se lava el auto.\n",
            "[Auto 9] Se lava el auto.\n",
            "Todos los autos fueron atendidos y retirados.\n"
          ]
        }
      ]
    }
  ]
}