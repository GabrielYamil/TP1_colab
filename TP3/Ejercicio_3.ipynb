{
  "nbformat": 4,
  "nbformat_minor": 0,
  "metadata": {
    "colab": {
      "provenance": [],
      "authorship_tag": "ABX9TyPlQ66KRqaiK4fC6/bRdf19",
      "include_colab_link": true
    },
    "kernelspec": {
      "name": "python3",
      "display_name": "Python 3"
    },
    "language_info": {
      "name": "python"
    }
  },
  "cells": [
    {
      "cell_type": "markdown",
      "metadata": {
        "id": "view-in-github",
        "colab_type": "text"
      },
      "source": [
        "<a href=\"https://colab.research.google.com/github/GabrielYamil/TPs_colab/blob/main/TP3/Ejercicio_3.ipynb\" target=\"_parent\"><img src=\"https://colab.research.google.com/assets/colab-badge.svg\" alt=\"Open In Colab\"/></a>"
      ]
    },
    {
      "cell_type": "markdown",
      "source": [
        "Gas Monkey Garage"
      ],
      "metadata": {
        "id": "62S9J23h7yjg"
      }
    },
    {
      "cell_type": "code",
      "execution_count": 17,
      "metadata": {
        "colab": {
          "base_uri": "https://localhost:8080/"
        },
        "id": "87ZUuiybQbUj",
        "outputId": "6608aabd-e8b1-4312-b8e7-b1c438a0795a"
      },
      "outputs": [
        {
          "output_type": "stream",
          "name": "stdout",
          "text": [
            "Writing GasMonkeyGarage.cpp\n"
          ]
        }
      ],
      "source": [
        "%%writefile GasMonkeyGarage.cpp\n",
        "#include <iostream>\n",
        "#include <thread>\n",
        "#include <chrono>\n",
        "#include <vector>\n",
        "#include <memory>\n",
        "#include <semaphore>\n",
        "#include <mutex>\n",
        "\n",
        "using namespace std;\n",
        "\n",
        "mutex cout_mutex;\n",
        "\n",
        "class TallerMecanico {\n",
        "private:\n",
        "    const int N;\n",
        "\n",
        "    counting_semaphore<6> espacioPlaya{6};\n",
        "    counting_semaphore<6> autosParaInspeccion{0};\n",
        "    counting_semaphore<3> espacioFosa{3};\n",
        "    counting_semaphore<6> autosParaReparar{0};\n",
        "    counting_semaphore<2> espacioServicio{2};\n",
        "    counting_semaphore<1> espacioLavado{1};\n",
        "\n",
        "public:\n",
        "    TallerMecanico(int n) : N(n) {}\n",
        "\n",
        "    void richard(int id) {\n",
        "        espacioPlaya.acquire();\n",
        "        {\n",
        "            lock_guard<mutex> lock(cout_mutex);\n",
        "            cout << \"[Auto \" << id << \"] Richard lo ingresa a la playa.\" << endl;\n",
        "        }\n",
        "        this_thread::sleep_for(chrono::milliseconds(100));\n",
        "        autosParaInspeccion.release();\n",
        "    }\n",
        "\n",
        "    void aaron(int id) {\n",
        "        autosParaInspeccion.acquire();\n",
        "        {\n",
        "            lock_guard<mutex> lock(cout_mutex);\n",
        "            cout << \"[Auto \" << id << \"] Aaron lo inspecciona.\" << endl;\n",
        "        }\n",
        "        this_thread::sleep_for(chrono::milliseconds(100));\n",
        "        espacioFosa.acquire();\n",
        "        autosParaReparar.release();\n",
        "    }\n",
        "\n",
        "    void charles(int id) {\n",
        "        autosParaReparar.acquire();\n",
        "        {\n",
        "            lock_guard<mutex> lock(cout_mutex);\n",
        "            cout << \"[Auto \" << id << \"] ayudante lo traslada a zona de fosa y Charles lo repara.\" << endl;\n",
        "        }\n",
        "        this_thread::sleep_for(chrono::milliseconds(100));\n",
        "        espacioServicio.acquire();\n",
        "        espacioFosa.release();\n",
        "    }\n",
        "\n",
        "    void ayudante(int id) {\n",
        "        {\n",
        "            lock_guard<mutex> lock(cout_mutex);\n",
        "            cout << \"[Auto \" << id << \"] Ayudante lo traslada a zona de servicio y cambia el aceite.\" << endl;\n",
        "        }\n",
        "        this_thread::sleep_for(chrono::milliseconds(100));\n",
        "        espacioServicio.release();\n",
        "\n",
        "        espacioLavado.acquire();\n",
        "        {\n",
        "            lock_guard<mutex> lock(cout_mutex);\n",
        "            cout << \"[Auto \" << id << \"] Se lava y se lo transporta a playa.\" << endl;\n",
        "        }\n",
        "        this_thread::sleep_for(chrono::milliseconds(100));\n",
        "        espacioLavado.release();\n",
        "\n",
        "        espacioPlaya.release();\n",
        "    }\n",
        "\n",
        "    void ingresarAuto(int id) {\n",
        "        richard(id);\n",
        "        aaron(id);\n",
        "        charles(id);\n",
        "        ayudante(id);\n",
        "    }\n",
        "\n",
        "    void iniciar() {\n",
        "        vector<thread> threads;\n",
        "        for (int i = 0; i < N; ++i) {\n",
        "            threads.emplace_back(&TallerMecanico::ingresarAuto, this, i + 1);\n",
        "        }\n",
        "        for (auto& t : threads) {\n",
        "            t.join();\n",
        "        }\n",
        "        {\n",
        "            lock_guard<mutex> lock(cout_mutex);\n",
        "            cout << \"Todos los autos fueron atendidos y retirados.\" << endl;\n",
        "        }\n",
        "    }\n",
        "};\n",
        "\n",
        "int main(int argc, char* argv[]) {\n",
        "    if (argc != 2) {\n",
        "        cerr << \"Uso: \" << argv[0] << \" <N_AUTOS>\\n\";\n",
        "        return 1;\n",
        "    }\n",
        "\n",
        "    int N = stoi(argv[1]);\n",
        "    TallerMecanico taller(N);\n",
        "    taller.iniciar();\n",
        "\n",
        "    return 0;\n",
        "}"
      ]
    },
    {
      "cell_type": "code",
      "source": [
        "!ls -la"
      ],
      "metadata": {
        "colab": {
          "base_uri": "https://localhost:8080/"
        },
        "id": "BY6gwIdjgRno",
        "outputId": "18fff89d-1eea-44c1-b080-8420c9a97d5b"
      },
      "execution_count": 18,
      "outputs": [
        {
          "output_type": "stream",
          "name": "stdout",
          "text": [
            "total 92\n",
            "drwxr-xr-x 1 root root  4096 May 19 23:39 .\n",
            "drwxr-xr-x 1 root root  4096 May 19 22:00 ..\n",
            "drwxr-xr-x 4 root root  4096 May 14 13:38 .config\n",
            "-rw-r--r-- 1 root root  2972 May 19 23:39 GasMonkeyGarage.cpp\n",
            "drwxr-xr-x 1 root root  4096 May 14 13:38 sample_data\n",
            "-rwxr-xr-x 1 root root 73072 May 19 23:30 taller\n"
          ]
        }
      ]
    },
    {
      "cell_type": "code",
      "source": [
        "!rm GasMonkeyGarage.cpp"
      ],
      "metadata": {
        "id": "2LBddgzTjCwZ"
      },
      "execution_count": 15,
      "outputs": []
    },
    {
      "cell_type": "code",
      "source": [
        "!g++ -std=c++20 -pthread GasMonkeyGarage.cpp -o taller"
      ],
      "metadata": {
        "id": "lXmpUmOVgZn4"
      },
      "execution_count": 19,
      "outputs": []
    },
    {
      "cell_type": "code",
      "source": [
        "!./taller 20"
      ],
      "metadata": {
        "colab": {
          "base_uri": "https://localhost:8080/"
        },
        "id": "-sdQSHrrge6A",
        "outputId": "e0059676-c587-40d6-f4f0-0e17c7140206"
      },
      "execution_count": 20,
      "outputs": [
        {
          "output_type": "stream",
          "name": "stdout",
          "text": [
            "[Auto 5] Richard lo ingresa a la playa.\n",
            "[Auto 4] Richard lo ingresa a la playa.\n",
            "[Auto 3] Richard lo ingresa a la playa.\n",
            "[Auto 2] Richard lo ingresa a la playa.\n",
            "[Auto 1] Richard lo ingresa a la playa.\n",
            "[Auto 6] Richard lo ingresa a la playa.\n",
            "[Auto 5] Aaron lo inspecciona.\n",
            "[Auto 4] Aaron lo inspecciona.\n",
            "[Auto 3] Aaron lo inspecciona.\n",
            "[Auto 2] Aaron lo inspecciona.\n",
            "[Auto 1] Aaron lo inspecciona.\n",
            "[Auto 6] Aaron lo inspecciona.\n",
            "[Auto 3] ayudante lo traslada a zona de fosa y Charles lo repara.\n",
            "[Auto 6] ayudante lo traslada a zona de fosa y Charles lo repara.\n",
            "[Auto 4] ayudante lo traslada a zona de fosa y Charles lo repara.\n",
            "[Auto 4] Ayudante lo traslada a zona de servicio y cambia el aceite.\n",
            "[Auto 5] ayudante lo traslada a zona de fosa y Charles lo repara.\n",
            "[Auto 6] Ayudante lo traslada a zona de servicio y cambia el aceite.\n",
            "[Auto 2] ayudante lo traslada a zona de fosa y Charles lo repara.\n",
            "[Auto 6] Se lava y se lo transporta a playa.\n",
            "[Auto 3] Ayudante lo traslada a zona de servicio y cambia el aceite.\n",
            "[Auto 2] Ayudante lo traslada a zona de servicio y cambia el aceite.\n",
            "[Auto 1] ayudante lo traslada a zona de fosa y Charles lo repara.\n",
            "[Auto 3] Se lava y se lo transporta a playa.\n",
            "[Auto 5] Ayudante lo traslada a zona de servicio y cambia el aceite.\n",
            "[Auto 1] Ayudante lo traslada a zona de servicio y cambia el aceite.\n",
            "[Auto 7] Richard lo ingresa a la playa.\n",
            "[Auto 4] Se lava y se lo transporta a playa.\n",
            "[Auto 10] Richard lo ingresa a la playa.\n",
            "[Auto 7] Aaron lo inspecciona.\n",
            "[Auto 10] Aaron lo inspecciona.\n",
            "[Auto 7] ayudante lo traslada a zona de fosa y Charles lo repara.\n",
            "[Auto 5] Se lava y se lo transporta a playa.\n",
            "[Auto 11] Richard lo ingresa a la playa.\n",
            "[Auto 11] Aaron lo inspecciona.\n",
            "[Auto 7] Ayudante lo traslada a zona de servicio y cambia el aceite.\n",
            "[Auto 10] ayudante lo traslada a zona de fosa y Charles lo repara.\n",
            "[Auto 2] Se lava y se lo transporta a playa.\n",
            "[Auto 12] Richard lo ingresa a la playa.\n",
            "[Auto 10] Ayudante lo traslada a zona de servicio y cambia el aceite.\n",
            "[Auto 11] ayudante lo traslada a zona de fosa y Charles lo repara.\n",
            "[Auto 12] Aaron lo inspecciona.\n",
            "[Auto 7] Se lava y se lo transporta a playa.\n",
            "[Auto 8] Richard lo ingresa a la playa.\n",
            "[Auto 11] Ayudante lo traslada a zona de servicio y cambia el aceite.\n",
            "[Auto 12] ayudante lo traslada a zona de fosa y Charles lo repara.\n",
            "[Auto 8] Aaron lo inspecciona.\n",
            "[Auto 10] Se lava y se lo transporta a playa.\n",
            "[Auto 17] Richard lo ingresa a la playa.\n",
            "[Auto 11] Se lava y se lo transporta a playa.\n",
            "[Auto 8] ayudante lo traslada a zona de fosa y Charles lo repara.\n",
            "[Auto 17] Aaron lo inspecciona.\n",
            "[Auto 12] Ayudante lo traslada a zona de servicio y cambia el aceite.\n",
            "[Auto 19] Richard lo ingresa a la playa.\n",
            "[Auto 1] Se lava y se lo transporta a playa.\n",
            "[Auto 8] Ayudante lo traslada a zona de servicio y cambia el aceite.\n",
            "[Auto 19] Aaron lo inspecciona.\n",
            "[Auto 16] Richard lo ingresa a la playa.\n",
            "[Auto 17] ayudante lo traslada a zona de fosa y Charles lo repara.\n",
            "[Auto 8] Se lava y se lo transporta a playa.\n",
            "[Auto 17] Ayudante lo traslada a zona de servicio y cambia el aceite.\n",
            "[Auto 15] Richard lo ingresa a la playa.\n",
            "[Auto 19] ayudante lo traslada a zona de fosa y Charles lo repara.\n",
            "[Auto 16] Aaron lo inspecciona.\n",
            "[Auto 17] Se lava y se lo transporta a playa.\n",
            "[Auto 15] Aaron lo inspecciona.\n",
            "[Auto 18] Richard lo ingresa a la playa.\n",
            "[Auto 19] Ayudante lo traslada a zona de servicio y cambia el aceite.\n",
            "[Auto 16] ayudante lo traslada a zona de fosa y Charles lo repara.\n",
            "[Auto 12] Se lava y se lo transporta a playa.\n",
            "[Auto 13] Richard lo ingresa a la playa.\n",
            "[Auto 15] ayudante lo traslada a zona de fosa y Charles lo repara.\n",
            "[Auto 18] Aaron lo inspecciona.\n",
            "[Auto 16] Ayudante lo traslada a zona de servicio y cambia el aceite.\n",
            "[Auto 15] Ayudante lo traslada a zona de servicio y cambia el aceite.\n",
            "[Auto 19] Se lava y se lo transporta a playa.\n",
            "[Auto 13] Aaron lo inspecciona.\n",
            "[Auto 20] Richard lo ingresa a la playa.\n",
            "[Auto 18] ayudante lo traslada a zona de fosa y Charles lo repara.\n",
            "[Auto 18] Ayudante lo traslada a zona de servicio y cambia el aceite.\n",
            "[Auto 13] ayudante lo traslada a zona de fosa y Charles lo repara.\n",
            "[Auto 16] Se lava y se lo transporta a playa.\n",
            "[Auto 9] Richard lo ingresa a la playa.\n",
            "[Auto 20] Aaron lo inspecciona.\n",
            "[Auto 13] Ayudante lo traslada a zona de servicio y cambia el aceite.\n",
            "[Auto 9] Aaron lo inspecciona.\n",
            "[Auto 20] ayudante lo traslada a zona de fosa y Charles lo repara.\n",
            "[Auto 15] Se lava y se lo transporta a playa.\n",
            "[Auto 14] Richard lo ingresa a la playa.\n",
            "[Auto 20] Ayudante lo traslada a zona de servicio y cambia el aceite.\n",
            "[Auto 18] Se lava y se lo transporta a playa.\n",
            "[Auto 9] ayudante lo traslada a zona de fosa y Charles lo repara.\n",
            "[Auto 14] Aaron lo inspecciona.\n",
            "[Auto 20] Se lava y se lo transporta a playa.\n",
            "[Auto 9] Ayudante lo traslada a zona de servicio y cambia el aceite.\n",
            "[Auto 14] ayudante lo traslada a zona de fosa y Charles lo repara.\n",
            "[Auto 14] Ayudante lo traslada a zona de servicio y cambia el aceite.\n",
            "[Auto 9] Se lava y se lo transporta a playa.\n",
            "[Auto 14] Se lava y se lo transporta a playa.\n",
            "[Auto 13] Se lava y se lo transporta a playa.\n",
            "Todos los autos fueron atendidos y retirados.\n"
          ]
        }
      ]
    }
  ]
}