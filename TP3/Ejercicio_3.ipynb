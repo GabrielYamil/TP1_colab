{
  "nbformat": 4,
  "nbformat_minor": 0,
  "metadata": {
    "colab": {
      "provenance": [],
      "authorship_tag": "ABX9TyPKBg2X0UTN70ngMsnb7grd",
      "include_colab_link": true
    },
    "kernelspec": {
      "name": "python3",
      "display_name": "Python 3"
    },
    "language_info": {
      "name": "python"
    }
  },
  "cells": [
    {
      "cell_type": "markdown",
      "metadata": {
        "id": "view-in-github",
        "colab_type": "text"
      },
      "source": [
        "<a href=\"https://colab.research.google.com/github/GabrielYamil/TPs_colab/blob/main/TP3/Ejercicio_3.ipynb\" target=\"_parent\"><img src=\"https://colab.research.google.com/assets/colab-badge.svg\" alt=\"Open In Colab\"/></a>"
      ]
    },
    {
      "cell_type": "markdown",
      "source": [
        "Gas Monkey Garage\n",
        "\n",
        "El programa sincroniza los hilos que representan a los autos pasando por el taller de manera que la playa tiene una cierta capacidad (seis autos) y una vez alcanzada no pouede hacer el ingreso de otro auto hasta que el auto pasa por los diferentes procesos hasta volver a la playa y se lo retire despues va a comprobar si hay lugar en la zona de fosa para ingresarlo y lo mismo pasa con la zona de fosa la cual tiene capacidad (3 autos) y no va liberar los autos hasta que halla espacio en zona de servicio con dos ayudantes para el cambio de aceite y lavado."
      ],
      "metadata": {
        "id": "62S9J23h7yjg"
      }
    },
    {
      "cell_type": "markdown",
      "source": [
        "![diagrama_proceso.jpg](data:image/jpeg;base64,/9j/4AAQSkZJRgABAQAAAQABAAD/4gHYSUNDX1BST0ZJTEUAAQEAAAHIAAAAAAQwAABtbnRyUkdCIFhZWiAH4AABAAEAAAAAAABhY3NwAAAAAAAAAAAAAAAAAAAAAAAAAAAAAAAAAAAAAQAA9tYAAQAAAADTLQAAAAAAAAAAAAAAAAAAAAAAAAAAAAAAAAAAAAAAAAAAAAAAAAAAAAAAAAAAAAAAAAAAAAlkZXNjAAAA8AAAACRyWFlaAAABFAAAABRnWFlaAAABKAAAABRiWFlaAAABPAAAABR3dHB0AAABUAAAABRyVFJDAAABZAAAAChnVFJDAAABZAAAAChiVFJDAAABZAAAAChjcHJ0AAABjAAAADxtbHVjAAAAAAAAAAEAAAAMZW5VUwAAAAgAAAAcAHMAUgBHAEJYWVogAAAAAAAAb6IAADj1AAADkFhZWiAAAAAAAABimQAAt4UAABjaWFlaIAAAAAAAACSgAAAPhAAAts9YWVogAAAAAAAA9tYAAQAAAADTLXBhcmEAAAAAAAQAAAACZmYAAPKnAAANWQAAE9AAAApbAAAAAAAAAABtbHVjAAAAAAAAAAEAAAAMZW5VUwAAACAAAAAcAEcAbwBvAGcAbABlACAASQBuAGMALgAgADIAMAAxADb/2wBDAAMCAgICAgMCAgIDAwMDBAYEBAQEBAgGBgUGCQgKCgkICQkKDA8MCgsOCwkJDRENDg8QEBEQCgwSExIQEw8QEBD/2wBDAQMDAwQDBAgEBAgQCwkLEBAQEBAQEBAQEBAQEBAQEBAQEBAQEBAQEBAQEBAQEBAQEBAQEBAQEBAQEBAQEBAQEBD/wAARCAE5Ap8DASIAAhEBAxEB/8QAHgABAQACAwEBAQEAAAAAAAAAAAcGCAQFCQIKAwH/xABiEAAABgECAgMJCgkFCQwLAAAAAQIDBAUGBxEIEhMh1QkUFhcxV1h3lxUYIjI3QVaVtbYZIzU4UXaWsdNhkrTB0UJSU3GBhIWR0iQlM1VzdYOGlKGm1DQ2RmJjZnSCsrPD/8QAFAEBAAAAAAAAAAAAAAAAAAAAAP/EABQRAQAAAAAAAAAAAAAAAAAAAAD/2gAMAwEAAhEDEQA/APVMadd0F49FcItbUYxhlHCuM5yFlUuO3YIcOJDiEo0dM4SDSazNaTSlBKL4pmZ7bEe4o8WLfvTjX7qp3kcBq4xSquu9nSb3Uwurq0GSlq5jLdDjrZ/yH0xFse/WGKu9184x3HDWi1xJoj8iEUSdi/1qM/8AvHx+F54yf+O8V+oW/wDaHtzEwjC4EZuHBxCkjx2UkhtpqvaQhCS8hEkk7EX+If18E8V+jNV/2Jv+wB4g/heeMn/jvFfqFv8A2h3+F92U4o6K7YlZfS4dk9V0rffUNUBcN5TRKI1ky80vZtak7kSlocSXUfIfkP2f8E8V+jNV/wBib/sGvvHhw54lrFwxZrWwMTqk5BR1rt3SSm4rbb7MmMXTKQ2si6ulQ2toyPqPn69tiUQWvSbVHE9atN8f1TwaS6/SZHDTMim8gkOt9ZpW04kjMicQtK0KIjMiUg9jMus8tHm73FXVlN3pVmOjk6YhUrGLRNtBaNJ83ektOyyI/IZJdaUe3lI3fn3Lb0iAAAAABqkri3zytqJ6sd0s8KvcSju8ps5VrkzUJaIUG1lRFMtdDA5HHTSwRtpUlBGkjJbnMnnXleTcUl7X3MxzFNMI91jFPb0FDb2b+QFElR5toqOaSbikw4TrbTctg1qN1BmpfKlKiI1EGwQDV6y4z7CkxeDkuSYVh+ON5Hk1ljuOu3+ce58J1MB2QiRJnSVwuWIk+9/xSEE+pxTiCPk61F/Wr402Mnj4TKxbE8a5csi9MSbnNY9d33JTNXEdhVDnRLZs5CFtrVy9Iwk0ORz5i6X4IbOAIFP4p2azXiu0am1GIF7p3aqNtprN4z+QNqKIuQmW7UttqNqKrk5SUp8nCJSFKaTzbDlcSfEv731pmQ7V4a6ydXKtFHkWbxqJyZ0G28WAypp52XJMj35TQ231oLpOZWxBcwEy1U1gtMFxTFL7FsJPJJ+YXMCmgwHbAoRNrltrUhxx3o3OVCOQufZJmSeYyJRkSVTV3iUzB3Jqs5OOtVrtNAy5nJMebtIqo7k+s7zNo27GSllKWTbf6QnF9ERJdPpEkaNiDZcBrhpzxft5tYuQHqLEJcaFkVbR2FvimaIvKthE6M4uO6mQUZnnWT7aWFtmlPKbiFEpW+w4mpPGWrAcHqs9cxfDosC2rLC7iIyTPY1O9Yw2HTJhEFpTDjsmS8zyOk2aG209KhBumo+oNmgHFqrBq3q4dqwhaGpsduQhK9uYkrSSiI9vn2McoAAAAAAAAAAAAAAAAAAAAAAAAAAAAAAAAAAAAAAAAAAAAAAAAAAAAAAAAAAAAAAAAAAAAAAAAAAAAAAAAAAAAAAAAAAAAAAAAAAAAAAAAS/ic1XjaI6CZtqY86hD1RUvHDSbvRm5LWXIylJ+XfnUnqLr6vm8o83+4zY5jUXJNQ9asuySoizUtN0URM2Q026anVE++4k1GRlvyNF1ERHufl+bXnjr1z1J4o+KO6wejcsJ9TT3TmNYzRRFKUhxbTvRG4SPIpx1xJqNR+QjSW+ydxM9eOD7iD4a6uqvdXMDcq6u5WTEacxKalMFINBr73cW0pRNu8qVGSVbcxIWaeYkq2D9EXjDwD6cY/8AWbH+0HjDwD6cY/8AWbH+0Py7gA/UR4w8A+nGP/WbH+0Ph7PdO5DS2H80xxxpxJoWhdiwaVJMtjIyNXWRkPy9D6ZZdkOoYYaW464okIQhJmpSjPYiIi8pmYDfnhIvGOFPumNnpoiewrHsht5uJtLiuINl2NLWl6tUnc9utZRC+CrcudREaviq9rR+czUngh4m9JdMIusOdaZS4GMPpaU++Uhpb0HpVcrffLCVdIySjMi5lJ5SNSUmZKURH6Tdx84kMu1S06yTSDOrmRaSsB70cp5Uk1OPHXPdIkmFOH8YmVtESeY9yQ4lJfBQRJD0NAAAR+Dwv4DArr2sZt8gU1kNBZY5KNUhk1IjTZkiW6tGzWxOE5KcJJmRkSSSRpMyMzwHPOGbPsj1IjHjFnHo8IfsqCyuDLJFOLsHqtTS23l1xVxbPKSw2wakz0tGlKHFtLUgkjZ4AEqe4d8abxiloaDLcmorDHLefc1N7AdiqnxHpjrzkhBE8w5HcbWUhxHI4ysuXlP46SWXGtuHGBdU9fjk/VrUeRUNwEV1zBl2zM1vIGidNxRyzksOLbWo1LJS4io6uVRIIyShskV4AEcicMOLwszZyyPnOYJiRModzGHQlIiFXR7N5txD6y2jk+4lwnXN0OPLJJq3RybFtzNU+HXHdVb2bfTMzyugXb4+7i9wxSyIraLKtWpSyacU8w442aVOLMlsLaUfMZKNRbEVXABJdYtFrTUPE8HxLHsolVBYrkNZaLs0OoRMbaiNOJS4zuytpTxKUhRJW30StlEouX4J9PacIGml3jyqK3u8mlPSI90idZLlMFLnybNxlyRMdNLJN9MS47RoJCEtJJJJ6M0kSSuQANfM24Xp9jhOaY/UZrb5HdailWwrq5yae2y5DZiqVyS4qIMVtBSG0KTyNIJptSm0KNSVc6l5DnnDBh2cSOeNleU4zFfxY8Mnw6N+K01OqC5uRhanWHHGuTnVsphbSvhbKNRbEViABw6etapqmFTsPOvNwYzcZDjvLzrShJJJSuUiLc9tz2Ii38hEOYAAAAAAAAAAAAAAAAAAAAAAAAMHsNbtKKjU5nRu6ziurMylwmrCHVTjVGXNYcWtCDjrcIkPq5mnCNDalKLlPciAdZecQ+m1Bk1xiD0fNbGyx+Q1EsipMDvbZiM+5HakpaVIhw3WTX0MhlZpJZmROJ32HF98tp19HNVfZPlXZwaN/KLrt6wIf3VoRVQEq98tp19HNVfZPlXZwe+W06+jmqvsnyrs4VUAEq98tp19HNVfZPlXZwe+W06+jmqvsnyrs4VUAEq98tp19HNVfZPlXZwe+W06+jmqvsnyrs4VUAEq98tp19HNVfZPlXZwe+W06+jmqvsnyrs4VUAEq98tp19HNVfZPlXZwe+W06+jmqvsnyrs4VUAEq98tp19HNVfZPlXZwe+W06+jmqvsnyrs4VUAEq98tp19HNVfZPlXZwyrT3U7ENUIdpNxJ61/wB5LD3LsY9pSTaqVFldAzIJtceay06W7MlhZHycppcLYzGViVaN/KLrt6wIf3VoQFVAAAAAAAAAAAAAAAAAAAAAAAAASrUvKNU/GniGmemd9ilJ7t4/fXs2be0Em1/9Bk1bLbTTbM2Lyc3uitSlKUr/AINJERbmYCqgJV4OcU/nk0q9mlj26Hg5xT+eTSr2aWPboCqgJV4OcU/nk0q9mlj26Hg5xT+eTSr2aWPboCqgJV4OcU/nk0q9mlj26Hg5xT+eTSr2aWPboCqgJV4OcU/nk0q9mlj26Hg5xT+eTSr2aWPboCqgJV4OcU/nk0q9mlj26Hg5xT+eTSr2aWPboCqgJV4OcU/nk0q9mlj26Hg5xT+eTSr2aWPboCqgJV4OcU/nk0q9mlj26Hg5xT+eTSr2aWPboCqgI/jeSa0UGtFHpzqNlWFZBW5Bi93dtO0mLy6l+M/Al1bKUqU9YykuIWmxWZkSUmRtp6z3MhYAHgPwq5zg+nPdEKzKtRH40alay24jLmSXCQ1DffKSyw+tSjJKUJdcRzKUeyU7q/uSHo93XLPcIx/hMtcKvnY7t9lFhAbpY3Onpm1syUPOSCI9zJJNtrQZl/hdt+seLerHyp5l+sFj/SXBiylrUSUqUZkgtkkZ+Qt99i/ymf8ArAf4AAADMtF8loMN1gwjLsrjdPS0uRV0+xb2UZnGakIW4ZEnrMySkzItj6yLqMuo8NAB+ifjG1Z0toeEjPMjvMhqLGlybGJtfVGxMbcRaOyWFNslHUkzJzc1pUSkGexFzbltuPN7uPOLXmV6iahw6LUjI8NeZpYjq5dIxXOuvJ6dRdGop0WSgk7mR7pSlW5F8Lbcj8+jWs0E2aj5SMzJO/URntuf/cX+oelHcQvlU1L/AFfif0kwHpV4m9RfSx1V+rcV7GDxN6i+ljqr9W4r2MKqACVeJvUX0sdVfq3Fexg8TeovpY6q/VuK9jCqgAlXib1F9LHVX6txXsYPE3qL6WOqv1bivYwqoAJV4m9RfSx1V+rcV7GDxN6i+ljqr9W4r2MKqACVeJvUX0sdVfq3Fexg8TeovpY6q/VuK9jCqgAlXib1F9LHVX6txXsYPE3qL6WOqv1bivYwqoAJV4m9RfSx1V+rcV7GH0zo9qG26hxfFXqk6lKiUba67FySsiPyHtTkex/yGR/yipgAlXia1BP43Fbqqf8AmGLl+6nDxL52fxuKfVU/81xsv3VIqoAJV4lc1P43FBqqf/RY+X7qsPEnl5/G4mtVT/yUZfurRVQASrxI5QfxuJPVU/8ApKcv3V4eI7Ij+NxG6qn/AJzVF+6CKqACVeIy8P43EPqqf+fVxfuhB4irY/jcQGqp/wCk4RfuiCqgAlXiInn8bXrVU/8ATEYv3Rg8Qsk/ja56qn/pxkv3MCqgAlXiDWfxtbdVT/6wpL9zQeIFB/G1n1VP/rMov3IFVABKve/xT+NrBqqf/Wt4v3ENS+KzudmoXEhq/jNfAzmygYRQVRuS8iyG3ctZ70l51fPGjRzMjIm0tNK3WpCTN5WxqMjIvQkAGvPB5ptH0gRqzpvEym/yNmjzmMwiyvpnfU18lYzRr+G5sW6U8/IhO2yUJQkupI2GEq0b+UXXb1gQ/urQiqgAAAAADWTi5xjww1J0SofF1iGcdPcXCvcXK3+hrX+WtcPmcV3rK2NO3Mn8Sr4RF1p8pBs2A1Cx/TC30s1X0drbSrx2ibtsvyW0iY7ja1LqqNhdOaCjRlKaZ5kmptTyjJloukec2T/dK7/ixlXef5PSaMYjiWUZHMr65/LZiMfkQGnYEpBm1UvunOkx2lITK6R4kkpSjVFSfLsW5Bs8A03eXcZvMw6wwKxZoqHiJa7wzaE04pp+usocda5z0Y2y2KQ6zHfhOq3TsaGnCM1JPfr8tyzwb1ad1RxHTrIG8I0dnQcQatq5yuapa+pbQaLhCmXJKJJkg5DO/Qx1lzV7XwuoySG7AD/EqStJLQolJUW5GR7kZD/QAAAAEq0b+UXXb1gQ/urQiqiVaN/KLrt6wIf3VoQFVAAAAAAAAAAAAAAAAAAAAAAABKsj/On089X+ZfaOOCqiVZH+dPp56v8AMvtHHAFVABjecZVeYnXsTaPTfI8ycdd6NyLSSK5p1hPKZ9Is50qMg07lt8FSlbmXVtuZBkgCLUPFHQZLiNRkVPppm8i0yKwmQKbHG2q9c+wTFVyvym3UyzhlFT5SkLkpbV8Ekmo3GyX85LxaacYXh5ZdmVNktIcXJI2L3NZKiM9+Ust5POTknkdU0ccmtnTeZcdQbZ8yTVsZEFrAYkxqdjD2WZDiS1vsu4zTw7ybNcJHepxZJyORSFko1GZFFcNW6SLY07Ge57fy0m1VxzWPD28zxmLYxI6pD0V2JYspZlR3G1bcrraVK5DUk0OJLfc0OIPq32AZkAh0HivoJLci8n6W53WYfEvpGOyMtkorFVrMlqWqIa3G2pq5aGTfTydIqOSU8xKXyJ3UXa1PEBPyXI7ujxHQrUG8hY/ev49OuIz9GzDTJZNJOqSmRYtyFISSyPcmdzLyEZ9QCuAMC1V1ciaWLxqF4GZFlFnlloqorK+kOEl5b6Y7r6jUqZIYaSkm2V9Zr332LbrHXWWuD1NWVRW2kebx8ovpL0erxJJ1b9nKQylKnZHSNTVw2mUpURmt2SgtzSn460JUFOASSRxJ4jExpdnKxfKGshbvWcYViK4rBW/uq6nnajF+O71MlNH0pPFI6A0dfSdWw7Gg15xazx7L7m/pLzFZuBJNeQ01w0wc2Eg2embWRxnXmHkuN/CQpp1ZGe6TMlJUkgpQDGtOM+p9TsLrc3o40yLGsUL5ok1CESojza1Nux3koUpKXW3ELQpJKMiUk+s/KMlASrI/zp9PPV/mX2jjgqolWR/nT6eer/MvtHHBVQHiHxzdzruuHnEbvXqZqnCu49rknRlWtVS2Ft99OOuEfSG6oj5dtvilv/INVNANI5GvGseL6RRbxumeyaWqIic4wbyWDJta+Y0EpJq+Jt5S8o9su6jab5PqVwg5FFxKrkWU6inQ7xcWOnmccjsqMnjSnynyNrUsyLr2Qe2/kHmJ3LnTDK874u8RyOoqZLlNiC5FpbzybPoYye93ENIUvbbnW4pCSTvuZcxl1JMyDYb8B1lXpE1X7OOf+YD8B1lXpE1X7OOf+YHrUADyV/AdZV6RNV+zjn/mBhOtvciMi0X0lyvVaVrlXWrOLVjtkuE3QuNKfJBb8hLN8yTv+nYx7QCYcT2AXGqXDxqLp9jxkdreY5NiwUGW5OSOiM22z/RzKIk7/Nzb7HtsYfm0oKpd7e11G28TKrGWzES4Zbkg3FknmMvn233HudwJ8AFxwc5ZlGS2WpsPKE5DXMwUssVaopsmh3n5jNTi+bfybbEPHLQjSfO854gMX0yqscsEXzeQMMTYjsdTbsEmXy74U8hfKbfRElXMStjI07eXqH6WQAAAAAAAAAAAAAAAAAAAAAAAAAAAAAAAAAAAAAAAAAAAAAAASrRv5RddvWBD+6tCKqJVo38ouu3rAh/dWhFVABxX7WsjWEWpk2UVqdOQ45FjLeSl19LfL0ikIM91EnnTzGRHtzFv5SHKGt+rF3mVPketeQYs08vJqHAq3wb6Fo3nmmHVTFSHGW+VW6+kaSexErmNhoj32IiDZAcGZR0tjYQLawp4UqdVLccgSXo6FuxFLQaFqaWZbtmpBmkzSZbkZkfUNM831N0hpsUp6vTfW7JMmx22yNDMmytNVbCro48hNct04zmSE1Il/DNKV97MPn+O2Qro0mbaplVaqzrDGoStQ9cM2pbWPpk8/jkKNlE2O7YZEza2DEVs9zbcnS9mm2yYeQanyJRutKUj4IegWb6Zab6mxI0DUjT7GsriwnDejMXlSxPbZcMtjWhLyFElRl1bl17D+FTiWlOkdTKtKPGcTwusixENSpESFGrmGozSlqQlakklKW0qddURGexG4sy25j304yjWDKHNcaaO9kdnV5JXZdjNTa10rP5cd5EeQzF756LHGI/ejkBapSkd9yXTc6U9kr3S0gcy91Hh+L/UW5k6zZfC1ijxskTZY3Cvpi2q2OzLNMVxcLrbrkpYTHNl9KY6n+l3NbxrPcNvVUml2KSadpVRi1PIk2sh6nScePHW5ZSEOrfVHLYjOQ6g31LNHw1F0hnuXMOyThuIIop2LIxSnTS2ZyDnVxQWiiyjkKUp/pWuXkX0ilrNfMR8xqUZ77mNKLbIYFjrRjb+X57kUrUOp1WsOfGG7V55EOlRXTSgus1yvxDaVsqZUmQSCNxx1SVOLPdJYvgesmoNxEy2y0xy+1mS7LS+xu0NIz+ZlcxqzbkRzNTrD0VEavsGmpC+eFESaEmptJoSRN7h6CVlljaZb+K00+tKVSssE/WxXW+khMrSfQkppJ7tpUlB8u5ERkk9vIOoPVbS5OQW+JnqTixXmPxVTrasO4j9918ZKUqU9IZ5+dpskrQZqWRERKI9+shB+FB7T2Vq5qfO0vz2xzGgkVGNKatpt4/cG66SJhOJTMfUtbpEZdZGtXIs1o+DycicG0IsbOp1UxLBJeURMlvl3mWnleJv08DpMXaW4+tFmTiGe+2lSTUyk1vvKRIRM3bSlKSIg3ZbcbebQ8y4lba0kpKknuSiPyGR/OQ+hMeG1xxejlK0Tilw4siwiVizPfmrmpr7cPY/7pPe6GuVXzp2Pr33FOABrriFtrRA1a1xZ05wDCrytPOISnZF3l8uqfS/4L0fMhLTNbKSpBJJBks3CMzUouUuUjVsUJVo38ouu3rAh/dWhAPCPin8zelXtLsewg8I+KfzN6Ve0ux7CFVABKvCPin8zelXtLsewg8I+KfzN6Ve0ux7CFVABKvCPin8zelXtLsewg8I+KfzN6Ve0ux7CFVABKvCPin8zelXtLsewg8I+KfzN6Ve0ux7CFVABKvCPin8zelXtLsewg8I+KfzN6Ve0ux7CFVABKvCPin8zelXtLsewh9NZFxQmoye0e0tSnlUZGnUmxUfNsfKWx0RdRnsRn8xbnsfkOpgAlXhHxT+ZvSr2l2PYQeEfFP5m9KvaXY9hCqgA86u6G6m8VGGRtM7nFKyqxPP13kmJQRMMzOddSrZhbKTktOVrtXHaktpWiIe6lLNKjSRNnzmaaxw65VxKZdq5pxZ8TuBUuL5F4BZgUZECTu7JY90Mc2cfYI1JYX5PgkszMzVuhrYkntuuJFclNTlxmlSWULbbeNBGtCFmk1pSrykRmhBmReXlT+ghMMj/On089X+ZfaOOAKqI5xInqXa0tThmE4Fk17SXshbeUS8dn10acxXpSRnHZObLjElUgz6M3EqM0N9IZESzQZWMAECkQM4i3+HatYjoPfVzOLVk/FZGGPTadif7nPnFW1IhGzMXCMm1xkJ6JyQ1+LNZl1pShzH7HR7Ps5yZOo+QYI3WqyPOaWdNoZEyK89CpYMKTH6SWpC1MreWbyjU2y46kkKbSSlGSjF1znNvBD3Dgw6z3StsitWauvh9N0JKMyU486pfKrlQ0w284fwT35CSXWohj0jiL0bh29xTz8x7zVRMTJEuXKrpbMBSYm3fSWJi2ijyVsmoicbZcWtCiMlERkZEGvnvf8AXylk6j6e1cfvnG8jiY5h9FkCJ7CpMXG0yZapZuoeWalPRo0g2EmaV9Js0rZX4wis2lWnOe6W6p5JDlXt3luK5RXRbNV3a+5jL0a2YIoymDZhsx08i4yIxpUlk+tlfMvc0kfLVxV6Hs1b1pNyO4gdBZx6ZcKdi9tFsDmyGVPR2kwnYyZKjdQhXRmTZk4ouVBqUZJHIsOJ3ReuxysyheSWUqLbJluMR6/HbKbPQiIo0SlPQmI65MdLKy5HDdbQTajJKtjMiMIpAwPW2bpJlXD0ejt3VqynKrl1zKpdnUqqo9XMtXZKnyQ1LXLW4cdeyW+90/jFJJSkJI1F/bDNM8ow3UbM7S+0T1mtF2edTbutscc1DZg07kNxTZtLdge7cdKj+AZrSuMZqLqMleQXW54gNJKGVTRZ2VLcK9ixZ0aRDrpcuM1GkrJEd+S+y0tqI06s+VDkhTaVGSiIz5VbYRnPF/p5genVjl81xuzuI1fc2MWnqm58lLrVe+6wpb75RCOG0p1smzeebS0SzNKVOERKUHacQmk9tqrkOljMeLaKqaLKXbG5kVl29VSYsY66W0laH47zT5buuNpMmlcxko9y5eYfGVafZDp7lmG6g6dY3d5lGxqssaGdUP35ybV6LMdYeJ9mVZvkT7jbkdJGh+Qj8WtXKrdCW1d0xxG6V+EFZiM+6lsXFi5DiqJqpmvwIs2S0TrUN6wQycVp9SVJNLTjiFnzo+D8NO/VL4oMEn6t43pNiaH7qTc2NlWTLBMeSxEiuwo63XUsvrZ6CYpK0dE4ll0+iUey9j+CAwi+0szHL4OZ53mWiNbdsZtb1xzcIlzYx2jVVDjLZaeZlJeTGZsycc6ZJpkciEJSlLyV7LLqC0t12yqgl4HHg5liuGZLllc8RZDk0W9vKGrisdNJcU9IemIc74lMsIbZNyUlKVrUpKUqNCbBqvq1l+l81m3c06iTcMZkV0Swt3L5LE3pZkpMdKYkImVlI5FONmsnHmTMlbNk4ZbDKsSzbwivMlxmfWe51rjU1LDzJPdKl6K6jpI0lCuVPwXEcxGW3wXG3UbqJPMYYXorg+eaaZZm+L3llbZFjdlLYyCryGyXAQ+9LkINM2OtmI2ylHK40l0jSwlKunV8JSuYVwAASrI/zp9PPV/mX2jjgqolWR/nT6eer/MvtHHBVQAcOupqenJ9NRVQ4JSXVPvFGYS10rij3UtXKRcyjPymfWY5gAAAAAAAA47ddXszXrJmDHRLkJSh59LSSccSn4pKVtuZF82/kHIAAAAAAAAAAAAAAAAAAAAAAAAAAEOxm+4idRZOSWmMZ1pzRVVXktrRxIk/C51hI6OHJWwS3H0WrCVKVyc3U0ki3269txcRKuHf8g5l6wMn+0ngDwe4p/O/pV7OLHtwPB7in87+lXs4se3BVQASrwd4p/O/pV7OLHtwPB3in88GlXs3se3BVQASrwd4p/PBpV7N7HtwPB3in88OlXs2se3RVQASrwd4p/PDpV7NrHt0PB3in88WlXs2se3RVQASrwc4p/PFpV7NbHt0PBzin88elXs1se3RVQASrwc4p/PHpV7NbHt0PBzin88mlXs0se3RVQARThyjZVEyjWyPmtzVWt0jUCN3zMq6xyviu74xRmjkjuPyFo2QaSPd1W6iNRcpGSStYlWjfyi67esCH91aEVUAHVyMZo5WRw8udhf77wIr0JiShxaD6B1SFLbUSTJK0mptBkSiPlMty2Mz37QAAdO1iWPsZbJzlqv5byXXs1T0rpVnzRWnHHG2+TfkLZbrh7knmPm2MzIiIu4AAAAAAAAAcW1rYlzWS6ieTxxprC473QvrZc5FpNKuVxs0rQexnspJkZeUjIxygAcWqq66jrIlNTwmYcGAwiNGjspJLbLSEklCEkXkIiIiIv5BygAAEq0b+UXXb1gQ/urQiqiVaN/KLrt6wIf3VoQFVAAAAAAAAAAAAAAAAAAAAAAABKsj/On089X+ZfaOOCqiVZH+dPp56v8AMvtHHAFVAAATfVanskZPp/ntfXTLBrGLxxM6NEbW66UWZGciqeS2nc19Gt1tatiMybJwy8mxzmLpJxH49p/kukuE5Jh1PUrTdv02QlOmqtX3pklchltaCaJMLozecQqQhyStRElaUNq8mxwANJZugGuWEZPUZZV0dZZWNrm9FZMQJGWXWQNQkQ6+wbdKXZzmFvpaWbjfK8TXK2p0kk0ZoI3MnvuGnXaxrmGm8srVpvpWQWeQ1cLMLijiwrCxfbWy809AbQ9Ytx2kuN9C8bCHTUaj6Mz2TtmADXLAdGdcNKZdU/hj+DzV2OKY5j14/aTZvLWu1iFtreisttf7sQ4h1eyFuReVSSUZq5jIsVmcL2s9Jj2Q12GWGGSpeZ45d4zaqtLCY01Abk2U2XFksE2wrplEie4lxpXRfCSk0uGRGSttwAao3fDXrfd5/XWtjk9dOp6jI6G5guO5jcNNx4UJMUnYCadtsoKlc7T7qZSzWtRqSk0oMycRkOFaE6r43m+Hw5cnFF4Vg2R3t1ClonSl2s5qxRKNLbrKmSaaUyuUaTMnXOlIuf8AFGXIrY0AEQ1/0s1J1YcRjlTT4Gqs5o79Zk01+QzeYrKJf46VCQlh1Lz3IRdGpL0U0nuSuchlGn9RaSdTM8zqZAmQ4cwq+hgFLZU05KbgpeNyTyqIjJCnZLiEntspLXOW6VpMUcAAAABKsj/On089X+ZfaOOCqiVZH+dPp56v8y+0ccFVAAAAAAAAAAAAAAAAAAAAAAAAAAAAAAAAAAAAAAEq4d/yDmXrAyf7SeFVEq4d/wAg5l6wMn+0ngFVAAAAAAAAAAAAAAAAAAABKrDQu28L8ny3EtdtQMS8LbBm0sa6rj0b0XvpuFGhE4g5tc+6ndmGxuXSGnmIzIi3DxN6i+ljqr9W4r2MKqACVeJvUX0sdVfq3Fexg8TeovpY6q/VuK9jCqgAkc3SjOa2FIsbHi71QjRYrS3333oGKIbabSRmpalHTbERERmZn5CISXhjzxzipwy0zLAOK/V6O1UXEmpkxZdbihPo5D3ZdNPuN1JdaUhZfoM1p3M0GYuPEDpZca2aT3ellTm7uKN5EluJYWDMPvl04JrI5DCEm4gkm62SmjUfMRJWr4J/NrZwC8IVZoPbX2oen+ot0qltLXJsYt6CzYbfTKOsvpkSBKQ830fRuIZjmSiNCyUbzplyEaSSGwfib1F9LHVX6txXsYPE3qL6WOqv1bivYwqoAJV4m9RfSx1V+rcV7GDxN6i+ljqr9W4r2MKqACVeJvUX0sdVfq3Fexg8TeovpY6q/VuK9jCqgAlXib1F9LHVX6txXsYPE3qL6WOqv1bivYwqoAJV4m9RfSx1V+rcV7GGQaY6Yt6at5G89mmQZVZZVcFd2VldphJfcfTCiw0pSmHHjspQlmEyRETe+/MZme4zUAAAAAAAAAAAAAAAAAAAAAAAAAEK1Z1CwHTXiS03vdRs4x/Fa1/B8wiNTLuzZgsOPqn48pLSXHlJSazShaiSR77IUfzGLqACVe+x4WPSW0q/bKu/jB77HhY9JbSr9sq7+MKqACVe+x4WPSW0q/bKu/jB77HhY9JbSr9sq7+MKqACVe+x4WPSW0q/bKu/jB77HhY9JbSr9sq7+MKqACVe+x4WPSW0q/bKu/jB77HhY9JbSr9sq7+MKqJVwn/mt6P/AKh0H9AZAPfY8LHpLaVftlXfxg99jwsektpV+2Vd/GFVABKvfY8LHpLaVftlXfxg99jwsektpV+2Vd/GDiW+Tqo/X/BPvVViqgJV77HhY9JbSr9sq7+MHvseFj0ltKv2yrv4wqoANf6jVjSzVDinwrxZ6l4plvuZp/lvfvuFcxp/evSWOPdH0vQrVyc3Rr5ebbfkVt5DGwAAAAAAAAAAAAAAAAAAAAAAAAAAAAAAAAAAAAAAAAJVw7/kHMvWBk/2k8KqJVw7/kHMvWBk/wBpPAKqAAAAAAAAAAAAAAAAAAAAAAAAAAAlXDT8nVv6wM7+9VoKqJVw0/J1b+sDO/vVaAKqAAAAAAAAAAAAAAAAAAAAAAAAAAAAAAAAAAAAAAAAAAAAAAAAAAAAACVcJ/5rej/6h0H9AZFVEq4T/wA1vR/9Q6D+gMgKqAAAlXEt8nNT+v8Agv3pqxVRKuJb5Oan9fsF+9NWKqAAAAAAAAAAAAAAAAAAAAAAAAAAAAAAAAAAAAAAAAAAAAAlXDv+Qcy9YGT/AGk8KqJVw7/kHMvWBk/2k8AqoAAAAAAAAAAAAAAAAAAAAAAAAAACVcNPydW/rAzv71WgqolXDT8nVv6wM7+9VoAqoAAAAAAAAAAAAAAAAAAAAAAAAAAAAAAAAAAAAAAAAAAAAAAAAAAAAAJVwn/mt6P/AKh0H9AZFVEq4T/zW9H/ANQ6D+gMgKqAAAlXEv8AJxVfr7g33pqxVRKuJb5OKv8AX3BvvRWCqgAAAAAAAAAAAAAAAAAAAAAAAAAAAAAAAAAAAAAAAAAAAAJVw7/kHMvWBk/2k8KqJVw7/kHMvWBk/wBpPAKqAAAAAAAAAAAAAAAAAAAAAAAAAAAlXDT8nVv6wM7+9VoKqJVw0/J1b+sDO/vVaAKqAAAAAAAAAAAAAAAAAAAAAAAAAAAAAAAAAAAAAAAAAAAAAAAAAAAAACU8J/Xwt6P/AKh0P9AZFWEq4UOrhh0mR/g8Lpm/5sNov6gFVAAASriX+TerP/58wf70VgqolXEt8nNQX6c/wUv/ABTViqgAAAAAAAAAAAAAAAAAAAAAAAAAAAAAAAAAAAAAAAAAAAAJVw7/AJBzL1gZP9pPCqiVcO/5BzL1gZP9pPAKqAAAAAAAAAAAAAAAAAAAAAAAAAAAlXDT8nVv6wM7+9VoKqJVw0/J1b+sDO/vVaAKqAAAAAAAAAAAAAAAAAAAAAAAAAAAAAAAAAAAAAAAAAAAAAAAAAAAAACVcKfVw16ZI/vMXr2/5rKS/qFVEq4Vurh00+R/eUbCP5pGX9QCqgAAJVxK9en1KX6dQMG+89Yf9QqolXEn14HQl+nUDCfvJXH/AFCqgAAAAAAAAAAAAAAAAAAAAAAAAAAAAAAAAAAAAAAAAAAAAJVw7/kHMvWBk/2k8KqJVw7/AJBzL1gZP9pPAKqAAAAAAAAAAAAAAAAAAAAAAAAAAAlXDT8nVv6wM7+9VoKqJVw0/J1b+sDO/vVaAKqAAAAAAAAAAAAAAAAAAAAAAAAAAAAAAAAAAAAAAAAAAAAAAAAAAAAACVcLHVw/YUj+8gKb/murL+oVUSrhb6tB8WR/g0S2/wCbLeL+oBVQAAEq4kevCMeL9OoGF/eGAf8AUKqJVxH9eG42X6dQMO/7r6Ef9QqoAAAAAAAAAAAAAAAAAAAAAAAAAAAAAAAAAAAAAAAAAAAACVcO/wCQcy9YGT/aTwqolXDv+Qcy9YGT/aTwCqgAAAAAAAAAAAAAAAAAAAAAAAAAAJVw0/J1b+sDO/vVaCqiVcNPydW/rAzv71WgCqgAAAAAAAAAAAAAAAAAAAAAAAAAAAAAAAAAAAAAAAAAAAwLL9dNMMJvV4rbXsubfNNoeeqKOom3M9ltZboW5GgtPOtpUW5kakkR7dW4a6Zfe4TphaW2KustX02RAo6h55snG2Z9jNZgxnVoPqWlD0ltRp+ckmXzjuNPdPca0zxpnGcZjLJslKfly31dJKnyl9bsqS6fwnXnFbqUtXWZ/oIiIgw/3y2nX0c1V9k+VdnB75bTr6Oaq+yfKuzhVQASr3y2nX0c1V9k+VdnB75bTr6Oaq+yfKuzhVQAam8VOpsfU/Rm3qdKZWtmO5vVqRb47MrdN8tiKXNYIzSw4ooKUrbdSpbZpcPo91pUoj5Rrz3NDUTMIFJcasa62+rNsqW25R41XwMIyCxq2IqZBuS30FBhuROdchJN7p2cSbLpK8pD04H8o0WNCYTGhx2mGUb8rbSCSktz3PYi6vKZmAl/vltOvo5qr7J8q7OD3y2nX0c1V9k+VdnCqgA8t+6G6/60Y7l2N5nolb6hHitxIrWZVRf4BawIsK7gy0yoT0ZVhCbSbjpo620Go1dCrmSZcvLtjoBra3huj+NUeq8jWHI8xKMqXeT5WleUOKOZIcW+6ylSa7l6NpThtI5SIuRtOxEWxFsRcUFDkLcVm/pIFm3Clsz4yJkZDxMSmVEtp5BLI+VxCiJSVl1pMtyMjHPASr3y2nX0c1V9k+VdnB75bTr6Oaq+yfKuzhVQASk+JjTZJcz1HqeygutTj2lmUNtpL9KlqrySkv5TMiGc4ZnWHaiUiciwfJIF1XG6thT8R4lk28g9ltLLyocSfUpCiJST8pEO9GvHFDkFfw517nFVTw0M+5Sma/LozRcqLiA8fQRjcIuo3mZTkc0O7Gom1PI8i+oNhwAAAAAAAAAAAAAAAAAAAAAAAAAAAAAAAAAAAAEq4d/yDmXrAyf7SeFVEq4d/wAg5l6wMn+0ngFVAAAAAAAAAAAAAAAAAAAAAAAAAAASrhp+Tq39YGd/eq0FVEq4afk6t/WBnf3qtAFVAAAAAAAAAAAAAAAAAAAAAAAAAAAAAAAAAAAAAAAAAAASriW+Tqo9YGCfeqrFVEq4lvk6qPWBgn3qqxPNbtHdKOIXVDxeq0qxKxlRkMSM4y2RQxXp0SIRJOPWMyltm4mS+nyqQrmYYI1FyqcZMBswA1lg4BpBqDnGrbmt9LRT5WGTWI9X7scp+DlEVey4zKhGs94RKcKSs5DRoWa2ete7KSRH8CtNR4Oc0evsyXa2dxiul2PO5BEUSzduaJ+ZYE+6pvZSlSEttsS09XMpTa0dXSHsG/QDQ6FeMak8P2mGj2N45kWXxcscvcisouNSYbMk6pibJKO+TkyRHZJPfj8RZbubn0R7JURGQo2q+byNTuAfKLnIY3LcIp1VOQRHibUbNlGkpjzGlkg1IPZ1tz4pqSZGWxmRkYDasBpDxLYTp/pQ1fY3o7ilRird/pPl0nJqmghMw4b0dmM2USU+wySUE6TzjraHTLmMlOJ3Mi2Kw8N2k8fDu8chc4bNHMDdepWW27nEZhP2MnnS2ZoeL3LimlCtiUr8av4SS6j+MQX0BqHrzpxW5TqNqFmrtPgeocejx5hqzqsnmvVVrh/RsKeRMp5yo8hts3kmtfMlDOzzKTOR+LNKMSx7B4mrGtOT3kDQnTvVaMrDcPfZm6nzUsWDDbsR5STPlrJiVOOFsbhl0ZcxdRK+YN6QGh2rOEMK1g1ht4/CzplqXHxnEcdSUK4eJEiraKPJI0V7RV7/AEiUpSauVKmVGTSSQk1Gki72xzBnhsLDc3q8pXlyNQdM42O11kW5JvshhpbOqMjWozJchEp4i5jM+VotzM0gN1AGjeV4xa6I1GoGMYxaTokik0uxZq1tYSlFKbactJ52k5CiMlJc5HJT3MR7pPrLyEMy1l074fdMtM8zhaVN1uMWlzplevppsfabaiXMFuOnadLQ2gycW2paSbkLUSldM4nmXuZEG2Q1V7qP+Ynqb/oX7YhDsqXCNNtV9Usyp9cseo8i8HKWmcx6tvmm5EeFVOxCU9Ojsu7obWuST7a5CSJZEw2kzIklvFuKS2t7ruU2Xz7a2k2rZvxWqyxkvLedm1aMlYRBfU4tSlOmuMllXSKMzWRkozM1bgPQEAAAAAAAAAAAAAAAAAAAAAAAAAAAAAAAAAAAABKuHf8AIOZesDJ/tJ4VUSrh3/IOZesDJ/tJ4BVRPYuv2k8rIrPGSyd5h+oRMXJmSquXGrT70276S1PdaTFeUz19Ilt1Skcq+Yi5FbUIa5FolrXGyrLrHE7+kwpq1iXXekypv7KVHmS5ST71fcppKFRIDrbhk649GcUp5wlKMiJxSSDJnuKjTywixXMNas7OW5c0dZIh2dXPpX2o9nJ6FmYhEyOhTzXUs0qQk0K5DLnLyjKcS120rzjLX8IxnJnJNsyiS40lyulR481Ed0mpC4ch1tLMxLbhklamFuEkzLm23Gv+McKOrTWQryLILGpYVIk4o66xIza6yN5PuVYOyJCil2LXP+NQ5uhtKUISrctvK4eQ6DcLmT6VZxSy7dFXJp8Ri2UarslZhfWEqUUhZEg01j7iYFb+L36QmifJaiSaCaIgGc628T+CaNnIqFIfusjjrrekrI7Enoo6JspMdpUiW2y4xGUrdakIdUlTnIZJI99xk0bXbSuXn56ZMZK4d6cp2AglV0pMJ2Y02TrsRuabZRXJKGz5lMIdN1JJUZpLlVtMNXNCdWMjyLNWsDlYmqi1Cco5llIuJ0puXXv1ziOZDDTbK0PIdbZaIjU42baudWzhGSS63FOFnJsb1hbyFaKybjUbL7HL2J0nML5T6HJROr6FulQ4iuacS4+4nvk1L5m9yNnmWaiCsagcQ2kel+QeC2a5LJh2aYCbZ1hiomzCjwTcU2ct5cdlaWWEqQZLdWaUN7p5zSSk79SniXwavlZBGyZqbFXVZG9j9exVQZdzLtOihsSlvtRYbDj3IlD/AMIySpKSIjUouYiGCavYFrDlmt+VxNPqamRV5LpvHxqZbXK5DDUTppcslux1tsOJkPNIXzHGNTRK50GbiNi36ufwyavVHPW4nlEWTQvZE/Pk1zWX2uOOyYx1kOJHecl1zXTG40uM6o4xGTThOJM1kaS2C2QNfNJLSllZDX5g0/Xw6aFkDryYkjrgSzWmO6hPJzOGtTa08iSNZKLlNJKMiHzE190qnZ4jTiLkExdy7NerGl+484oDs1po3XYqJ5s96LfQhKzU0l01pNCiNJGkyKGUGg2V0VvodptLcefVilKTWaTIkKSusnQ4T6JEFBS3SIje78bQomt1uE2t41dRkpXbRuHrWiZrfTahZPk0KxrqLMZt61JezC3eN+uejyWWIrdQaCr4bjCXm09IjnU6SVKNSDUrmDZ8AAAAAAAAAAQzD6PiN00h2+M45p/pvfVb+TZBdw583OJ9fIW1Y20qelDkdFQ+lCkFK6M9nVkfJzblvsVzABKvCPin8zelXtLsewg8I+KfzN6Ve0ux7CFVABKvCPin8zelXtLsewg8I+KfzN6Ve0ux7CFVABKvCPin8zelXtLsewg8I+KfzN6Ve0ux7CFVABKvCPin8zelXtLsewg8I+KfzN6Ve0ux7CFVABKvCPin8zelXtLsewg8I+KfzN6Ve0ux7CFVABKvCPin8zelXtLsewg8I+KfzN6Ve0ux7CFVABKvCPin8zelXtLsewg8I+KfzN6Ve0ux7CFVABKvCPin8zelXtLsewg8I+KfzN6Ve0ux7CFVABKvCPin8zelXtLsewg8I+KfzN6Ve0ux7CFVABKvCPin8zelXtLsewg8I+KfzN6Ve0ux7CFVABKvCPin8zelXtLsewg8I+KfzN6Ve0ux7CFVABKvCPin8zelXtLsewg8I+KfzN6Ve0ux7CFVABKvCPin8zelXtLsewg8I+KfzN6Ve0ux7CFVABrVrbda+y8Xx6Pmummn9VSr1AwfvmZV5xNsJTW2T1po5I7lTHQvdZJI93U7JM1FzGRJOpZHw6cPmY3crJcu0J08vLeeolyrCyxiDJkvqIiSRrdcaNSj2Ii3Mz6iIh1vEt8nVR6wME+9VWKqAxLItIdJ8wkU8vLdMMSu38eSlFQ7Y0kaSuuSRpMijm4gzZIjQgy5Nvip/QQ7OIrDX59nk0E6Zyawj3Ns7BrojdQlg1K6B50usibNxauRR/B51HsW5jsLRyY1WS3a5snJaGHFMIPyKcJJ8pf69hpbcXNNB070cgZ1qFcYlhNzg9lYSZ1fdP1qrLKltsOIZeda5VvurN2c4UZZml9wlEptw0kkBtrheNaZw4EDIdO6DGGIUmuQzAnUsWOlpyCpZvIS04yWxsmtxThEk+UzWai6zMxyJOn+Bzai4x+ZhNA/V5E85JuITtayqPYvObc7khs08rylcqd1LIzPlLfyDQPF82u6PCMagJ1GyemzSsxbA29NMaiWchhi6adaaKX/ALgSaWp5KWbzb6nEudA22SiNrYlHc9JMtS/xK3FG5qDMyie/MuikNwsxmuKr2EOJ6Nmxx2S0lmtQ0RJaZksK5nzJKz3S8owF1xzRXRvDqi2x/EdJcMo6u+a6G1g1tDFjR57fKpPI+222SXU8qlFssjLZRl85j+OG6FaI6dW55Dp9o5g+MWhsqjnOpseiQpBtKMjUjpGm0q5TNJblvsexfoGrPGHqvZY7qPc1dFlNpU3WPVVPYV7TuoEyn5yXKWp16DTxI6k2yCQ2ZSFS3OibSk+ptJLUeR5Hb6qOztUNM6m+y1b+nlLkV9EnMS5Bvzzs2FrqWm3EnzO9BzzEJTuZpVGZMtjJOwbIZhpJpVqFYwbjPtMsTyWfVltBlXFLGmPRS5iV+KW6hSkfCIj+CZdZbjo77SLhy1ayCwuco0x03zO8rXE1thKn0sCxlxnEIStMd1a0KWhRIcQokKMjJKyPbYyGsOTa8vZw3lFlp9qtZSsVh4nhHu3b1Fo4aK+I/ZSE20lp1HN0T6IxGTrqdnG+QzM0qb3TjjGb4Pi1ZlMTF89spmLZDqq83EvJ+pMugrpbTdDFWhMq/baemOIM0bMm2vmfUhPM6tO/OG+VNiGJ44447j2L1NWt6NHhuKhQmmDXHYSaWGjNCS3Q2kzShPkSRmRERDqIGJaTT40bFqzGcSkx8MsW341cxCjLRSzuXpULQ0lO0Z7le5yMiSrZ3mLqVuei9LeagZxpXdZHcarZ9Cn4dpHIuISIOUWEdSLSPZ2bTT8gyNpclaG4yG1FIR+M8rqDURcvZ5heWWJZFqVIx7LXIa7bUHHnswVYZ1YVDUWnfpGnEvOS2umcrGHZhJa75ZaT8Eia50ISXIG+yaSmTaSLxNRCKxlx24kiYUdHTvMINSkNLXtzKQk3HDJJnsRrUZeUxh+IaVaEUMTIqLAtN8Cro1ir3PyKHUU8NluQrk5uglttIIlnyPb8jhH8FzybK69OZ2oF3G03xK0yzW5ufFSi/OniQtRLqmftGETElFcgWy4TXu9LZQXQtMPoNuTzodNSyUaj2sxx1SOIW1KCh9tuwwism2zTqUpWmSUqQiOt1KfgpdNvpknt5SaSXkSQDLcx0p0u1FZgR9QdNsWydqqMzgIuaePNTEMyIjNonUKJvckp+Lt8Uv0DX7uoqUo4EdS0ISSUpKlIiItiIvdiENqxqr3Uf8xPU3/Qv2xCAbVAAAAAAAAAAAAAAAAAAAAAAAAAAAAAAAAAAAAAJVw7/kHMvWBk/wBpPCqiVcO/5BzL1gZP9pPAKqAAAAAAAAAAAAAAAAAAAAAAAAAAAAAAAAAAAAAAAAAAAAAAAAAAAAAAAAAAAAAAAAAAAAAAAAAlXEt8nVR6wME+9VWKqJvxD0V3e6UWKsbrHrO0o7CoyWJAYLd2a5V2UawKOgj8q3O9eRJfpUQzPFsooM1x2uyzFrRmxqbWOmTEksnulxtRdX8pGXkMj2MjIyMiMjIB2o6vHsZo8ViyINBC70jypj89xlLi1IJ55ZrdNCVGZIJSzUo0p2TupR7bme/aAAAAAA6LHMJxrFJ91a0sF1E3Ipvf9lJflvSXX3eUkJLndWo0tpSRJQ2kybQXUlKSMx3oAAAAAAAADq6rGaOls7a5roXRzrx9Eie+p1bi3lIbS2gt1GfKlKUkRITskjNRkW6lGfaAADVXuo/5iepv+hftiENqhrpxq4svW7TouF6gfSq8z5bUl/lPf3ProTqJS5b3942b7MeOR/Ot8iLfZRkGxYAAAAAAAAAAAAAAAAAAAAAAAAAAAAAAAAAAgvE9xqaKcJ7dfG1Hm2Eq3tmVvwqqsYS7IW2W5E4slKSSGzUk08xn5SPYj2GuDHdhcOsIZTKjhr1MmNrIjbW200baiPY9+ZO/zHv/AKgG5uuWol7pLpXf6lUGGOZU7jrBT5NW1L73dchoURyFtqNCiNaGudZJMi5uTbctxq5wLcZNPrvml/gGnmnV2dY5aXuV291ZOtx0VzcuapyLHS2gnCedX0myi50EnkWZc5EMce7q+1IaWw/wf6pONOJNC0LikaVJMtjIyNvrIyEb4ZeLnT7hYqMnq8G4QtWHEZVev27jzsEkrajmZlHiEfIfOhlJqJJme5mtR9W+xB6zAPP1XdboEdxBWHChqlHQvfrNhO57foI0lv8AN847fT7uwHDnk+Vt4jnGMZdgbzz6Y5TLaM0uKyszJOz6m1mtrrMtzNBpIiM1GkiAb1gPlC0OIS42olJURGlRHuRl+kh9AAAAAAAAAAAAAAAAAAAAAAAAAAAAAAAAAAAAAAAAAAAAAAAAAAAAAAAAAAAAAAAAAAAACY22g1Qd3OyLAc4y3T2faOnInljcmN3rKfP4zyocxiRFJ1XlU4lpK1n1qUo9hTgASrxN6i+ljqr9W4r2MHib1F9LHVX6txXsYVUAEq8TeovpY6q/VuK9jB4m9RfSx1V+rcV7GFVABKvE3qL6WOqv1bivYweJvUX0sdVfq3FexhVQASrxN6i+ljqr9W4r2MHib1F9LHVX6txXsYVUAEq8TeovpY6q/VuK9jB4m9RfSx1V+rcV7GFVABKvE3qL6WOqv1bivYweJvUX0sdVfq3FexhVQASk9GNQFlyP8VmqrjZ9Skd44w3zF+jmRUJUX+NJkf8AKMowDS7E9OG5rtG1Ml2dqtLlncWkxybYz1J35elkOmazSncyQ2Rk2gjMkJSR7DLgAAAAAAAAAAAAAAAAAAAAAAAAAAAAAAAB0mbZjj+nuH3OdZXORDp6CC9YTX1GRcjTSDUrbcy3MyLYi+czIvnHdjzh7s1rzIxTTPHdB6KebMzMnzsrdLazJXudHV+LbVsfxXH9j6/L0Bl+kBIeDDBbTugHFtlvEzrVXIssYxp4lRKySglRukUaihw+U9yNtlsjWov7pWxnvzK39dokSLAjNw4MZqPHZSSG2mkEhCEl5CJJdRF/iEA4CtDoegnDBh2M978lvcQ0X90s/jKmykJcNB/8mg22i/5PfymZnsKAAAAA1j4/OFGk4m9ELhutoYzue49GVYY3OQynvlbjRGpULn25jbeSak8hnyk4baz+KNnAAaCdyR4oHdUdJ5OhOY2ZLynTlpDdch3ZLkij+ChrqNW6jjr/ABKjJJElCoxdZmZjfseMmvMlzgA7phG1QpWn2cRyh9N/KjNmakuV1gpbdg0SUbEfI+l91tvyJNDG5HsRn7MMvNSGkPsOocacSS0LQojSpJluRkZeUjIB9gAAAAAAAAAAAAAAAAAAAAAAAAAAAAAAAAAAAAAAAAAAAAAAAAAAAAAAAAAAAAAAAAAAAAAAAAAAAAAAAAAAAAAAAAAAAAAAAAAAAAAAAAAAAAAAAAAAAAAAAAAAA/Ovx460HrrxR5pl0WaUqpgSzpKdSSLl7zimbaTTt5SUvpHN/wD4g/QVntw5j2DZFftO9GusqZkxK/7022VLI/m8mw8WO5v8COOcVsm/1D1TsZ6cQx+WmAUOG8bT1jNU30ikqd2M0oQlbaj5T5jNZFuRbmYdTgfdauLrBqSqoXLHFsij1LCIyF3FSpbzzaE8qSdcZcbUoyIi+F1KPbdRmZmZ58ju2HEeS0m5pnpsady5iKLPIzL+Q++j2GxfFT3JvQqZpZb5HoBSzcWyqgr3JkeJ7oSJka06FBqUytL61qQ4si2StCiTzbcyT3My8y+EzBtEdRda6jFuILPfBHEZDbinJxvJYQ4+W3RsrfURoYSr4W7i9klttuW5ANsvw2mvvmo0/wD5s3+OH4bTX3zUaf8A82b/ABxfkcBvct3EJcb1ZqVJURGlRaiRTIy/SXwx/vvCu5c+daq9ocb/AGwGvj/dsuIVSCKNpZp22rfrNbU5Zbf4ikEOouu7Q8UtjGSxV4jp1VLJXMp5mtlurMv0ETklSSL/ACb+TrId1xrcLHAHpVo5NybRvWVhzNGXWfc6pi5JHtu/0m4lLiVNoM1tkSVGrpNyIuTbY9xKO5zcGFPxaZ9dTc3sHY+H4e3HcsY8ZZofnPPmvomUrL/g07NOGpW+/URER7maQh2vvEVqpxL5ixm+rF0xPsIkRMGMmPGQwywwSlK5EIT/AO8pRmZ7mZmPa/uY+tK9ZeErGU2Mw5F1ha3MWsTUWxmUcknGV1mZq3iuRyNR+VaV/oE/1p7kPw35dg8yLpDXzMMy1iJtWzF2ciTDffQXwEym3TWZIVtyqW0SVFvz7LMjSqT9xCnS4sfWfEppGhdfLpn+j5+YicUU1tzyfB6uiQW5eX/IA9RgAAAAAAAAAAAAAAAAAAAAAAAAAAAAAAAAAAAAAAAAAAAAAAAAAAAAAAAAAAAAAAAAAAAAAAAAAAAAAAAAAAAAAAAAAAAAAAAAAAAAAAAAAAAAAAAAAAAAAAAAAAGNam0c/JtNssxuqa6SbbUc+DGRzJLmddjrQgt1GRFuai8pkX6TIeOPcxOOLDOGadf6VawKkwMVyWaifGtWmFOlWTyQTbnToTus2nEIbLmSSjQpst0mlSlI9sx5a8aXcmsrzbUS01V4cZ9UackmOTLPG5znepRZCy5nHYzxmaVIcXzKNtRJ5DV8EzSZJQFj4o+6hcPeH6WW8PR7OY+YZfbw3Ylc1AaeS3DU4g098OuqQSS5OYjJJHzGZeTqMeUPCXqRo7pTrVVZdrpp2eY4q00407EShDqozx7G3JJlzZL3IaduQ1J6lGrczSSVSq+pLHGb2xxy4ZJmfVS3oMpslkskPNLNC0kotyPZSTLcuoxtNifcueLrNsVpszx7FqJ6qvq+PZwXV3jCFLjvtpcbUaVHukzSoj2PrIBvB+EX7mv5pv8AwJD/ALQ/CL9zX803/gSH/aNNfwSXGl9D8f8A2gjf2h+CS40vofj/AO0Eb+0BTuNXjB4F9YtFJ2H6UaMEnL3n2VVlqWPxqtdYZOIU4vpW91LSpCVINvyHukz60kZTPuaPGZivCpnuQ0upSJDeHZozGKXOYaW8uulRuk6J3ok7mptRPOJWSUmrfozLckmR/P4JLjS+h+P/ALQRv7RrnrfodqFw8549pvqdXxoV2xGZlqbjykSEdE6W6DJaDMvmPqAe0utndRuF3T7BZ1tgeeR80yJxlbdbXVjLhl05tmba3lLJJIbI9ubYzV822/k167ijAvbi11m1GtULWi1kVrCpHUSXJRqkvPFt+kukbP8A+7/ENOOF3gC1r4q6ZvMMLkUldizdouqm2c2V8OO4hLa3NmC+GsyQ8hRbbEfWW5GPbnhi4dcP4X9Jq7S/EVrk9Eo5VjPcTs5OmrSknHlF8xHykSU7nypIiAVgAAAAAAAAAAAAAAAAAAAAAAAAAAAAAAAAAAAAAAAAAAAAAAAAAAAAAAAAAAAAAAAAAAAAAAAAAAAAAAAAAAAAAAAAAAAAAAAAAAAAAAAAAAAAAAAAAAAAAAAAAAAAAAfmW4hK2VT69aj1c1h1l6Nlls2pDrZoUW0tzYzSfWW5bH/lH6JeHKKuDw9aXwnN+aPhlI0rdPKe6YLJdZfN5PIJHxQ/+v8AX/8AM7X/AO94bK1P5Khf/Tt//iQDlgAAA8PO7G1a6/i7ZlqQaSs8SrpSTP8AuiJ2Q1uX+Voy+byD3DGv/Fd/7Lf59/8AwARXuN9LZ1HCXPkWMCRGRaZhPmxTdIyJ5nvaI2TiN/7k1NrLq6jNJn/KN6himlXycY5/ze1+4ZWAAAAAAAAAAAAAAAAAAAAAAAAAAAAAAAAAAAAAAAAAAAAAAAAAAAAAAAAAAAAAAAAAAAAAAAAAAAAAAAAAAAAAAAAAAAAAAP/Z)"
      ],
      "metadata": {
        "id": "hezp8N2q-vhp"
      }
    },
    {
      "cell_type": "code",
      "execution_count": 2,
      "metadata": {
        "colab": {
          "base_uri": "https://localhost:8080/"
        },
        "id": "87ZUuiybQbUj",
        "outputId": "2ba5d79e-8f25-4f64-91f8-94116b348fb1"
      },
      "outputs": [
        {
          "output_type": "stream",
          "name": "stdout",
          "text": [
            "Writing GasMonkeyGarage.cpp\n"
          ]
        }
      ],
      "source": [
        "%%writefile GasMonkeyGarage.cpp\n",
        "#include <iostream>\n",
        "#include <thread>\n",
        "#include <chrono>\n",
        "#include <vector>\n",
        "#include <memory>\n",
        "#include <semaphore>\n",
        "#include <mutex>\n",
        "\n",
        "using namespace std;\n",
        "\n",
        "mutex cout_mutex;\n",
        "\n",
        "class TallerMecanico {\n",
        "private:\n",
        "    const int N;\n",
        "\n",
        "    counting_semaphore<6> espacioPlaya{6};\n",
        "    counting_semaphore<6> autosParaInspeccion{0};\n",
        "    counting_semaphore<3> espacioFosa{3};\n",
        "    counting_semaphore<6> autosParaReparar{0};\n",
        "    counting_semaphore<2> espacioServicio{2};\n",
        "    counting_semaphore<1> espacioLavado{1};\n",
        "    counting_semaphore<1> autoEnReparacion{1};\n",
        "\n",
        "public:\n",
        "    TallerMecanico(int n) : N(n) {}\n",
        "\n",
        "    void richard(int id) {\n",
        "        espacioPlaya.acquire();\n",
        "        {\n",
        "            lock_guard<mutex> lock(cout_mutex);\n",
        "            cout << \"[Auto \" << id << \"] Richard lo ingresa a la playa.\" << endl;\n",
        "        }\n",
        "        this_thread::sleep_for(chrono::milliseconds(100));\n",
        "        autosParaInspeccion.release();\n",
        "    }\n",
        "\n",
        "    void aaron(int id) {\n",
        "        autosParaInspeccion.acquire();\n",
        "        {\n",
        "            lock_guard<mutex> lock(cout_mutex);\n",
        "            cout << \"[Auto \" << id << \"] Aaron lo inspecciona.\" << endl;\n",
        "        }\n",
        "        this_thread::sleep_for(chrono::milliseconds(100));\n",
        "        espacioFosa.acquire();\n",
        "        autosParaReparar.release();\n",
        "    }\n",
        "\n",
        "    void charles(int id) {\n",
        "        autosParaReparar.acquire();\n",
        "        autoEnReparacion.acquire();\n",
        "        {\n",
        "            lock_guard<mutex> lock(cout_mutex);\n",
        "            cout << \"[Auto \" << id << \"] ayudante lo traslada a zona de fosa y Charles lo repara.\" << endl;\n",
        "        }\n",
        "        this_thread::sleep_for(chrono::milliseconds(100));\n",
        "        autoEnReparacion.release();\n",
        "        espacioServicio.acquire();\n",
        "        espacioFosa.release();\n",
        "    }\n",
        "\n",
        "    void ayudante(int id) {\n",
        "        {\n",
        "            lock_guard<mutex> lock(cout_mutex);\n",
        "            cout << \"[Auto \" << id << \"] Ayudante lo traslada a zona de servicio y cambia el aceite.\" << endl;\n",
        "        }\n",
        "        this_thread::sleep_for(chrono::milliseconds(100));\n",
        "        espacioServicio.release();\n",
        "\n",
        "        espacioLavado.acquire();\n",
        "        {\n",
        "            lock_guard<mutex> lock(cout_mutex);\n",
        "            cout << \"[Auto \" << id << \"] Se lava y se lo transporta a playa.\" << endl;\n",
        "        }\n",
        "        this_thread::sleep_for(chrono::milliseconds(100));\n",
        "        espacioLavado.release();\n",
        "\n",
        "        espacioPlaya.release();\n",
        "    }\n",
        "\n",
        "    void ingresarAuto(int id) {\n",
        "        richard(id);\n",
        "        aaron(id);\n",
        "        charles(id);\n",
        "        ayudante(id);\n",
        "    }\n",
        "\n",
        "    void iniciar() {\n",
        "        vector<thread> threads;\n",
        "        for (int i = 0; i < N; ++i) {\n",
        "            threads.emplace_back(&TallerMecanico::ingresarAuto, this, i + 1);\n",
        "        }\n",
        "        for (auto& t : threads) {\n",
        "            t.join();\n",
        "        }\n",
        "        {\n",
        "            lock_guard<mutex> lock(cout_mutex);\n",
        "            cout << \"Todos los autos fueron atendidos y retirados.\" << endl;\n",
        "        }\n",
        "    }\n",
        "};\n",
        "\n",
        "int main(int argc, char* argv[]) {\n",
        "    if (argc != 2) {\n",
        "        cerr << \"Uso: \" << argv[0] << \" <N_AUTOS>\\n\";\n",
        "        return 1;\n",
        "    }\n",
        "\n",
        "    int N = stoi(argv[1]);\n",
        "    TallerMecanico taller(N);\n",
        "    taller.iniciar();\n",
        "\n",
        "    return 0;\n",
        "}"
      ]
    },
    {
      "cell_type": "code",
      "source": [
        "!ls -la"
      ],
      "metadata": {
        "colab": {
          "base_uri": "https://localhost:8080/"
        },
        "id": "BY6gwIdjgRno",
        "outputId": "20590b79-e4fe-42ff-dd99-55af279643fa"
      },
      "execution_count": 3,
      "outputs": [
        {
          "output_type": "stream",
          "name": "stdout",
          "text": [
            "total 20\n",
            "drwxr-xr-x 1 root root 4096 May 20 02:23 .\n",
            "drwxr-xr-x 1 root root 4096 May 20 02:22 ..\n",
            "drwxr-xr-x 4 root root 4096 May 14 13:38 .config\n",
            "-rw-r--r-- 1 root root 3057 May 20 02:23 GasMonkeyGarage.cpp\n",
            "drwxr-xr-x 1 root root 4096 May 14 13:38 sample_data\n"
          ]
        }
      ]
    },
    {
      "cell_type": "code",
      "source": [
        "!rm GasMonkeyGarage.cpp"
      ],
      "metadata": {
        "id": "2LBddgzTjCwZ"
      },
      "execution_count": null,
      "outputs": []
    },
    {
      "cell_type": "code",
      "source": [
        "!g++ -std=c++20 -pthread GasMonkeyGarage.cpp -o taller"
      ],
      "metadata": {
        "id": "lXmpUmOVgZn4"
      },
      "execution_count": 4,
      "outputs": []
    },
    {
      "cell_type": "code",
      "source": [
        "!./taller 20"
      ],
      "metadata": {
        "colab": {
          "base_uri": "https://localhost:8080/"
        },
        "id": "-sdQSHrrge6A",
        "outputId": "ba19bb13-4de3-4247-d79d-8a67f0e2e8dd"
      },
      "execution_count": 5,
      "outputs": [
        {
          "output_type": "stream",
          "name": "stdout",
          "text": [
            "[Auto 3] Richard lo ingresa a la playa.\n",
            "[Auto 4] Richard lo ingresa a la playa.\n",
            "[Auto 5] Richard lo ingresa a la playa.\n",
            "[Auto 2] Richard lo ingresa a la playa.\n",
            "[Auto 1] Richard lo ingresa a la playa.\n",
            "[Auto 6] Richard lo ingresa a la playa.\n",
            "[Auto 4] Aaron lo inspecciona.\n",
            "[Auto 3] Aaron lo inspecciona.\n",
            "[Auto 5] Aaron lo inspecciona.\n",
            "[Auto 2] Aaron lo inspecciona.\n",
            "[Auto 1] Aaron lo inspecciona.\n",
            "[Auto 6] Aaron lo inspecciona.\n",
            "[Auto 3] ayudante lo traslada a zona de fosa y Charles lo repara.\n",
            "[Auto 5] ayudante lo traslada a zona de fosa y Charles lo repara.\n",
            "[Auto 3] Ayudante lo traslada a zona de servicio y cambia el aceite.\n",
            "[Auto 5] Ayudante lo traslada a zona de servicio y cambia el aceite.\n",
            "[Auto 2] ayudante lo traslada a zona de fosa y Charles lo repara.\n",
            "[Auto 3] Se lava y se lo transporta a playa.\n",
            "[Auto 2] Ayudante lo traslada a zona de servicio y cambia el aceite.\n",
            "[Auto 1] ayudante lo traslada a zona de fosa y Charles lo repara.\n",
            "[Auto 5] Se lava y se lo transporta a playa.\n",
            "[Auto 16] Richard lo ingresa a la playa.\n",
            "[Auto 16] Aaron lo inspecciona.\n",
            "[Auto 1] Ayudante lo traslada a zona de servicio y cambia el aceite.\n",
            "[Auto 2] Se lava y se lo transporta a playa.\n",
            "[Auto 6] ayudante lo traslada a zona de fosa y Charles lo repara.\n",
            "[Auto 11] Richard lo ingresa a la playa.\n",
            "[Auto 1] Se lava y se lo transporta a playa.\n",
            "[Auto 6] Ayudante lo traslada a zona de servicio y cambia el aceite.\n",
            "[Auto 11] Aaron lo inspecciona.\n",
            "[Auto 14] Richard lo ingresa a la playa.\n",
            "[Auto 16] ayudante lo traslada a zona de fosa y Charles lo repara.\n",
            "[Auto 6] Se lava y se lo transporta a playa.\n",
            "[Auto 14] Aaron lo inspecciona.\n",
            "[Auto 10] Richard lo ingresa a la playa.\n",
            "[Auto 16] Ayudante lo traslada a zona de servicio y cambia el aceite.\n",
            "[Auto 11] ayudante lo traslada a zona de fosa y Charles lo repara.\n",
            "[Auto 10] Aaron lo inspecciona.\n",
            "[Auto 18] Richard lo ingresa a la playa.\n",
            "[Auto 11] Ayudante lo traslada a zona de servicio y cambia el aceite.\n",
            "[Auto 14] ayudante lo traslada a zona de fosa y Charles lo repara.\n",
            "[Auto 16] Se lava y se lo transporta a playa.\n",
            "[Auto 18] Aaron lo inspecciona.\n",
            "[Auto 14] Ayudante lo traslada a zona de servicio y cambia el aceite.\n",
            "[Auto 4] ayudante lo traslada a zona de fosa y Charles lo repara.\n",
            "[Auto 11] Se lava y se lo transporta a playa.\n",
            "[Auto 20] Richard lo ingresa a la playa.\n",
            "[Auto 10] ayudante lo traslada a zona de fosa y Charles lo repara.\n",
            "[Auto 4] Ayudante lo traslada a zona de servicio y cambia el aceite.\n",
            "[Auto 12] Richard lo ingresa a la playa.\n",
            "[Auto 14] Se lava y se lo transporta a playa.\n",
            "[Auto 20] Aaron lo inspecciona.\n",
            "[Auto 10] Ayudante lo traslada a zona de servicio y cambia el aceite.\n",
            "[Auto 18] ayudante lo traslada a zona de fosa y Charles lo repara.\n",
            "[Auto 12] Aaron lo inspecciona.\n",
            "[Auto 13] Richard lo ingresa a la playa.\n",
            "[Auto 4] Se lava y se lo transporta a playa.\n",
            "[Auto 18] Ayudante lo traslada a zona de servicio y cambia el aceite.\n",
            "[Auto 20] ayudante lo traslada a zona de fosa y Charles lo repara.\n",
            "[Auto 13] Aaron lo inspecciona.\n",
            "[Auto 10] Se lava y se lo transporta a playa.\n",
            "[Auto 9] Richard lo ingresa a la playa.\n",
            "[Auto 20] Ayudante lo traslada a zona de servicio y cambia el aceite.\n",
            "[Auto 12] ayudante lo traslada a zona de fosa y Charles lo repara.\n",
            "[Auto 9] Aaron lo inspecciona.\n",
            "[Auto 18] Se lava y se lo transporta a playa.\n",
            "[Auto 17] Richard lo ingresa a la playa.\n",
            "[Auto 12] Ayudante lo traslada a zona de servicio y cambia el aceite.\n",
            "[Auto 13] ayudante lo traslada a zona de fosa y Charles lo repara.\n",
            "[Auto 17] Aaron lo inspecciona.\n",
            "[Auto 20] Se lava y se lo transporta a playa.\n",
            "[Auto 15] Richard lo ingresa a la playa.\n",
            "[Auto 13] Ayudante lo traslada a zona de servicio y cambia el aceite.\n",
            "[Auto 9] ayudante lo traslada a zona de fosa y Charles lo repara.\n",
            "[Auto 15] Aaron lo inspecciona.\n",
            "[Auto 12] Se lava y se lo transporta a playa.\n",
            "[Auto 7] Richard lo ingresa a la playa.\n",
            "[Auto 9] Ayudante lo traslada a zona de servicio y cambia el aceite.\n",
            "[Auto 17] ayudante lo traslada a zona de fosa y Charles lo repara.\n",
            "[Auto 19] Richard lo ingresa a la playa.\n",
            "[Auto 7] Aaron lo inspecciona.\n",
            "[Auto 13] Se lava y se lo transporta a playa.\n",
            "[Auto 17] Ayudante lo traslada a zona de servicio y cambia el aceite.\n",
            "[Auto 15] ayudante lo traslada a zona de fosa y Charles lo repara.\n",
            "[Auto 19] Aaron lo inspecciona.\n",
            "[Auto 9] Se lava y se lo transporta a playa.\n",
            "[Auto 8] Richard lo ingresa a la playa.\n",
            "[Auto 15] Ayudante lo traslada a zona de servicio y cambia el aceite.\n",
            "[Auto 7] ayudante lo traslada a zona de fosa y Charles lo repara.\n",
            "[Auto 8] Aaron lo inspecciona.\n",
            "[Auto 17] Se lava y se lo transporta a playa.\n",
            "[Auto 7] Ayudante lo traslada a zona de servicio y cambia el aceite.\n",
            "[Auto 19] ayudante lo traslada a zona de fosa y Charles lo repara.\n",
            "[Auto 15] Se lava y se lo transporta a playa.\n",
            "[Auto 19] Ayudante lo traslada a zona de servicio y cambia el aceite.\n",
            "[Auto 8] ayudante lo traslada a zona de fosa y Charles lo repara.\n",
            "[Auto 7] Se lava y se lo transporta a playa.\n",
            "[Auto 8] Ayudante lo traslada a zona de servicio y cambia el aceite.\n",
            "[Auto 19] Se lava y se lo transporta a playa.\n",
            "[Auto 8] Se lava y se lo transporta a playa.\n",
            "Todos los autos fueron atendidos y retirados.\n"
          ]
        }
      ]
    }
  ]
}